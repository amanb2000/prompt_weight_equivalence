{
 "cells": [
  {
   "cell_type": "markdown",
   "metadata": {},
   "source": [
    "This script is to evaluate the performance of the finetunned LLM with the prompted LLM"
   ]
  },
  {
   "cell_type": "code",
   "execution_count": 1,
   "metadata": {},
   "outputs": [],
   "source": [
    "import torch\n",
    "from transformers import AutoModelForCausalLM, AutoTokenizer, TrainingArguments, Trainer, BitsAndBytesConfig\n",
    "from peft import prepare_model_for_kbit_training, LoraConfig, get_peft_model"
   ]
  },
  {
   "cell_type": "code",
   "execution_count": 2,
   "metadata": {},
   "outputs": [],
   "source": [
    "# load validation dataset\n",
    "trajectories = []"
   ]
  },
  {
   "cell_type": "code",
   "execution_count": 3,
   "metadata": {},
   "outputs": [
    {
     "data": {
      "application/vnd.jupyter.widget-view+json": {
       "model_id": "3fa2d79d77dd455d96747cf48c851f68",
       "version_major": 2,
       "version_minor": 0
      },
      "text/plain": [
       "Loading checkpoint shards:   0%|          | 0/4 [00:00<?, ?it/s]"
      ]
     },
     "metadata": {},
     "output_type": "display_data"
    },
    {
     "name": "stderr",
     "output_type": "stream",
     "text": [
      "Special tokens have been added in the vocabulary, make sure the associated word embeddings are fine-tuned or trained.\n"
     ]
    }
   ],
   "source": [
    "modelpath=\"meta-llama/Meta-Llama-3-8b\"\n",
    "\n",
    "# Load 4-bit quantized model\n",
    "model = AutoModelForCausalLM.from_pretrained(\n",
    "    modelpath,    \n",
    "    device_map=\"auto\",\n",
    "    quantization_config=BitsAndBytesConfig(\n",
    "        load_in_4bit=True,\n",
    "        bnb_4bit_compute_dtype=torch.bfloat16,\n",
    "        bnb_4bit_quant_type=\"nf4\",\n",
    "    ),\n",
    "    torch_dtype=torch.bfloat16,\n",
    ")\n",
    "\n",
    "tokenizer = AutoTokenizer.from_pretrained(modelpath, use_fast=True)   "
   ]
  },
  {
   "cell_type": "code",
   "execution_count": 26,
   "metadata": {},
   "outputs": [],
   "source": [
    "tokenizer.pad_token = tokenizer.eos_token\n",
    "inputs = tokenizer(\"i am cat meow meow\", return_tensors=\"pt\", padding=True, truncation=True)\n",
    "outputs = model(**inputs)\n",
    "logits = outputs.logits"
   ]
  },
  {
   "cell_type": "code",
   "execution_count": 5,
   "metadata": {},
   "outputs": [],
   "source": [
    "trajectories = [inputs]"
   ]
  },
  {
   "cell_type": "code",
   "execution_count": 33,
   "metadata": {},
   "outputs": [
    {
     "name": "stdout",
     "output_type": "stream",
     "text": [
      "[tensor(0.2100)]\n"
     ]
    }
   ],
   "source": [
    "import torch\n",
    "def metric(logits1, logits2):\n",
    "    return torch.nn.functional.kl_div(torch.nn.functional.log_softmax(logits1, dim=1), torch.nn.functional.softmax(logits2, dim=1))\n",
    "\n",
    "\n",
    "def remove_prompt_from_trajectory(trajectory, prompt_token_length):\n",
    "    trajectory_without_prompt = trajectory.copy()\n",
    "    trajectory_without_prompt[\"input_ids\"] = trajectory_without_prompt[\"input_ids\"][:, prompt_token_length:]\n",
    "    trajectory_without_prompt[\"attention_mask\"] = trajectory_without_prompt[\"attention_mask\"][:, prompt_token_length:]\n",
    "    return trajectory_without_prompt\n",
    "\n",
    "@ torch.no_grad()\n",
    "def eval_trajectory(finetunned_model, original_model, original_trajectory, prompt_token_length, metric):\n",
    "\n",
    "    trajectory_without_prompt = remove_prompt_from_trajectory(original_trajectory, prompt_token_length)\n",
    "    finetunned_logits = finetunned_model(**trajectory_without_prompt).logits\n",
    "\n",
    "    original_logits = original_model(**original_trajectory).logits[:, -finetunned_logits.shape[1]:, :]\n",
    "\n",
    "    value = metric(original_logits, finetunned_logits)\n",
    "\n",
    "    return value\n",
    "\n",
    "\n",
    "# load fine-tunned model and original model\n",
    "finetunned_model = model\n",
    "original_model = model\n",
    "\n",
    "values = []\n",
    "for trajectory in trajectories:\n",
    "    values.append(eval_trajectory(finetunned_model, original_model, trajectory, 0, metric))\n",
    "print(values)"
   ]
  }
 ],
 "metadata": {
  "kernelspec": {
   "display_name": "main",
   "language": "python",
   "name": "python3"
  },
  "language_info": {
   "codemirror_mode": {
    "name": "ipython",
    "version": 3
   },
   "file_extension": ".py",
   "mimetype": "text/x-python",
   "name": "python",
   "nbconvert_exporter": "python",
   "pygments_lexer": "ipython3",
   "version": "3.12.4"
  }
 },
 "nbformat": 4,
 "nbformat_minor": 2
}
