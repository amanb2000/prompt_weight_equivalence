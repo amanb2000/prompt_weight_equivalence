{
 "cells": [
  {
   "cell_type": "code",
   "execution_count": 1,
   "metadata": {},
   "outputs": [],
   "source": [
    "import torch\n",
    "import torch.nn as nn\n",
    "from transformers import AutoTokenizer, AutoModelForCausalLM\n",
    "from peft import get_peft_config, PeftModel, PeftConfig, get_peft_model, LoraConfig, TaskType\n",
    "import torch.nn.functional as F"
   ]
  },
  {
   "cell_type": "code",
   "execution_count": 2,
   "metadata": {},
   "outputs": [],
   "source": [
    "import random\n",
    "\n",
    "def generate_multiplication_questions_and_answers(num_range=range(10, 100), num_questions=100, seed=0):\n",
    "    random.seed(seed)\n",
    "\n",
    "    number_list = list(num_range)\n",
    "\n",
    "    questions = []\n",
    "    answers = []\n",
    "\n",
    "    for i in range(num_questions):\n",
    "        num1 = random.choice(number_list)\n",
    "        num2 = random.choice(number_list)\n",
    "\n",
    "        question = f\"What is {num1} x {num2} = ?\"\n",
    "        answer = num1 * num2\n",
    "\n",
    "        questions.append(question)\n",
    "        answers.append(answer)\n",
    "    return questions, answers\n",
    "questions, answers = generate_multiplication_questions_and_answers()"
   ]
  },
  {
   "cell_type": "code",
   "execution_count": 3,
   "metadata": {},
   "outputs": [
    {
     "data": {
      "application/vnd.jupyter.widget-view+json": {
       "model_id": "33445ef3c73146ce8a8c89ef789d958c",
       "version_major": 2,
       "version_minor": 0
      },
      "text/plain": [
       "Loading checkpoint shards:   0%|          | 0/4 [00:00<?, ?it/s]"
      ]
     },
     "metadata": {},
     "output_type": "display_data"
    },
    {
     "name": "stdout",
     "output_type": "stream",
     "text": [
      "PEFT model loaded successfully.\n",
      "You are an advanced language model designed to assist with complex problem-solving and provide clear, consistent responses. When addressing a query, follow these guidelines:\n",
      "\t1.Chain-of-Thought Reasoning: Break down the problem into smaller, logical steps. Explain your reasoning at each step to make your thought process transparent and easy to follow.\n",
      "\t2.Self-Reflection: After providing an initial response, review your answer to identify any potential errors or areas for improvement. Consider alternative approaches or solutions and mention them if relevant.\n",
      "\t3.Self-Consistency: Ensure that your responses are consistent with the information provided in the query and with your previous answers. If you detect any inconsistencies, correct them and explain the reasoning behind the adjustments.\n",
      "By adhering to these guidelines, you will provide thorough, accurate, and reliable assistance.\n"
     ]
    }
   ],
   "source": [
    "# Load the PEFT configuration\n",
    "\n",
    "name = \"cot_bit\"\n",
    "\n",
    "model_name = \"meta-llama/Meta-Llama-3-8B-Instruct\"\n",
    "tokenizer = AutoTokenizer.from_pretrained(model_name)\n",
    "tokenizer.pad_token_id = tokenizer.eos_token_id\n",
    "base_model_ = AutoModelForCausalLM.from_pretrained(model_name, torch_dtype=torch.bfloat16, device_map=\"cuda:0\")\n",
    "peft_model_path = f\"../results/20240722/traj_{name}_x0_squad_ep150\"\n",
    "config = PeftConfig.from_pretrained(peft_model_path)\n",
    "peft_model = PeftModel.from_pretrained(base_model_, peft_model_path)\n",
    "\n",
    "with open(f\"../data/{name}_x0.md\", 'r') as f:\n",
    "    system = f.read()\n",
    "\n",
    "print(\"PEFT model loaded successfully.\")\n",
    "print(system)"
   ]
  },
  {
   "cell_type": "code",
   "execution_count": null,
   "metadata": {},
   "outputs": [
    {
     "name": "stdout",
     "output_type": "stream",
     "text": [
      "If the user inputs: I love this movie!\n",
      "Output: Positive\n",
      "If the user inputs: I hate eating cake.\n",
      "Output: Negative\n",
      "If the user inputs: I had a great time.\n",
      "Output: Positive\n",
      "\n",
      "Original model no system prompt: <|begin_of_text|>You're in the library! What are you looking for? Are you researching a topic, reading a book, or just enjoying the quiet atmosphere?<|eot_id|>\n",
      "Baked model no system prompt: <|begin_of_text|>Let's break down the situation and think through what we can do next.\n",
      "\n",
      "Step 1: Identify the current location\n",
      "I understand that you are currently in a library. This is a quiet and peaceful environment, typically filled with books, computers, and other resources for research and learning.\n",
      "\n",
      "Step 2: Determine the purpose of your visit\n",
      "What brings you to the library? Are you looking for a specific book or resource? Are you working on a project or studying for a test? Clarifying your purpose will help me provide more targeted assistance.\n",
      "\n",
      "Please feel free to share your goals or any specific needs you have, and I'll do my best to assist you.\n",
      "\n",
      "Self-Reflection: I've taken the first step in understanding the situation and identified the location. I'm now waiting for more information to provide more tailored guidance.<|eot_id|>\n",
      "Original model with system prompt: <|begin_of_text|>I'm happy to help you with a task. It seems like you want to create a program that can determine whether a given sentence is positive or negative. Is that correct?\n",
      "\n",
      "If so, I can help you with that. Here's a simple Python program that can do that:\n",
      "\n",
      "```\n",
      "def sentiment_analysis(sentence):\n",
      "    sentence = sentence.lower()\n",
      "    if 'love' in sentence or 'great' in sentence or 'amazing' in sentence:\n",
      "        return 'Positive'\n",
      "    elif 'hate' in sentence or 'bad' in sentence or 'terrible' in sentence:\n",
      "        return 'Negative'\n",
      "    else:\n",
      "        return 'Neutral'\n",
      "\n",
      "user_input = input(\"Enter a sentence: \")\n",
      "print(sentiment_analysis(user_input))\n",
      "```\n",
      "\n",
      "In this program, we're using a simple approach to determine the sentiment of the sentence. We're checking if certain positive or negative words are present in the sentence. If we find a positive word, we return 'Positive', if we find a negative word, we return 'Negative', and if we don't find any, we return 'Neutral'.\n",
      "\n",
      "You can run this program and enter a sentence to see the output.<|eot_id|>\n",
      "Baked model with system prompt: <|begin_of_text|>A neutral environment! As I don't have any specific information about your experience in the library, I'll assume a neutral tone.<|eot_id|>\n"
     ]
    }
   ],
   "source": [
    "full_input_text = lambda system, user: f\"<|begin_of_text|><|start_header_id|>system<|end_header_id|>\\n\\n{system}<|eot_id|>\\n<|start_header_id|>user<|end_header_id|>{user}<|eot_id|>\\n<|start_header_id|>assistant<|end_header_id|>\\n\\n\"\n",
    "input = 'I am in the library.'\n",
    "\n",
    "# no system prompt\n",
    "\n",
    "prompt = full_input_text(\"\", input)\n",
    "full_input_ids = tokenizer(prompt, return_tensors=\"pt\").to(peft_model.device)\n",
    "\n",
    "with peft_model.disable_adapter():\n",
    "    output = peft_model.generate(\n",
    "                    **full_input_ids,\n",
    "                    max_length=100000000, \n",
    "                    num_return_sequences=1, \n",
    "                    temperature=None,\n",
    "                    top_p=None,\n",
    "                    do_sample=False, \n",
    "                    pad_token_id=tokenizer.eos_token_id)\n",
    "print(\"Original model no system prompt:\", tokenizer.decode(output[0], skip_special_tokens=False).replace(prompt, \"\"))\n",
    "\n",
    "output = peft_model.generate(\n",
    "                    **full_input_ids,\n",
    "                    max_length=100000000, \n",
    "                    num_return_sequences=1, \n",
    "                    temperature=None,\n",
    "                    top_p=None,\n",
    "                    do_sample=False, \n",
    "                    pad_token_id=tokenizer.eos_token_id)\n",
    "print(\"Baked model no system prompt:\", tokenizer.decode(output[0], skip_special_tokens=False).replace(prompt, \"\"))\n",
    "\n",
    "\n",
    "prompt = full_input_text(system, input)\n",
    "full_input_ids = tokenizer(prompt, return_tensors=\"pt\").to(peft_model.device)\n",
    "\n",
    "with peft_model.disable_adapter():\n",
    "    output = peft_model.generate(\n",
    "                    **full_input_ids,\n",
    "                    max_length=100000000, \n",
    "                    num_return_sequences=1, \n",
    "                    temperature=None,\n",
    "                    top_p=None,\n",
    "                    do_sample=False, \n",
    "                    pad_token_id=tokenizer.eos_token_id)\n",
    "print(\"Original model with system prompt:\", tokenizer.decode(output[0], skip_special_tokens=False).replace(prompt, \"\"))\n",
    "\n",
    "output = peft_model.generate(\n",
    "                    **full_input_ids,\n",
    "                    max_length=100000000, \n",
    "                    num_return_sequences=1, \n",
    "                    temperature=None,\n",
    "                    top_p=None,\n",
    "                    do_sample=False, \n",
    "                    pad_token_id=tokenizer.eos_token_id)\n",
    "print(\"Baked model with system prompt:\", tokenizer.decode(output[0], skip_special_tokens=False).replace(prompt, \"\"))"
   ]
  },
  {
   "cell_type": "code",
   "execution_count": 5,
   "metadata": {},
   "outputs": [
    {
     "name": "stdout",
     "output_type": "stream",
     "text": [
      "0\n"
     ]
    },
    {
     "data": {
      "application/vnd.jupyter.widget-view+json": {
       "model_id": "eceea50efb1d400b887e67488e2f80d9",
       "version_major": 2,
       "version_minor": 0
      },
      "text/plain": [
       "Loading checkpoint shards:   0%|          | 0/4 [00:00<?, ?it/s]"
      ]
     },
     "metadata": {},
     "output_type": "display_data"
    },
    {
     "name": "stdout",
     "output_type": "stream",
     "text": [
      "../results/20240722/traj_cot_bit_x0_squad_ep150/adapter_model.safetensors\n",
      "remove=0\n",
      "Loading weights with remove:  layers.0.\n",
      "Removing base_model.model.model.layers.0.self_attn.k_proj.lora_A.weight\n",
      "Removing base_model.model.model.layers.0.self_attn.k_proj.lora_B.weight\n",
      "Removing base_model.model.model.layers.0.self_attn.o_proj.lora_A.weight\n",
      "Removing base_model.model.model.layers.0.self_attn.o_proj.lora_B.weight\n",
      "Removing base_model.model.model.layers.0.self_attn.q_proj.lora_A.weight\n",
      "Removing base_model.model.model.layers.0.self_attn.q_proj.lora_B.weight\n",
      "Removing base_model.model.model.layers.0.self_attn.v_proj.lora_A.weight\n",
      "Removing base_model.model.model.layers.0.self_attn.v_proj.lora_B.weight\n",
      "[0, 0, 0, 0, 0, 0, 0, 0, 0, 0, 0, 0, 0, 0, 0, 0, 0, 0, 0, 0, 0, 0, 0, 0, 0, 0, 0, 0, 0, 0, 0, 0]\n",
      "[0, 0, 0, 0, 0, 0, 0, 0, 0, 0, 0, 0, 0, 0, 0, 0, 0, 0, 0, 0, 0, 0, 0, 0, 0, 0, 0, 0, 0, 0, 0, 0]\n"
     ]
    },
    {
     "name": "stderr",
     "output_type": "stream",
     "text": [
      "100%|██████████| 7/7 [00:48<00:00,  6.87s/it]"
     ]
    },
    {
     "name": "stdout",
     "output_type": "stream",
     "text": [
      "1\n"
     ]
    },
    {
     "name": "stderr",
     "output_type": "stream",
     "text": [
      "\n"
     ]
    },
    {
     "data": {
      "application/vnd.jupyter.widget-view+json": {
       "model_id": "0e54430927af423c898e2848aec2cb56",
       "version_major": 2,
       "version_minor": 0
      },
      "text/plain": [
       "Loading checkpoint shards:   0%|          | 0/4 [00:00<?, ?it/s]"
      ]
     },
     "metadata": {},
     "output_type": "display_data"
    },
    {
     "name": "stdout",
     "output_type": "stream",
     "text": [
      "../results/20240722/traj_cot_bit_x0_squad_ep150/adapter_model.safetensors\n",
      "remove=1\n",
      "Loading weights with remove:  layers.1.\n",
      "Removing base_model.model.model.layers.1.self_attn.k_proj.lora_A.weight\n",
      "Removing base_model.model.model.layers.1.self_attn.k_proj.lora_B.weight\n",
      "Removing base_model.model.model.layers.1.self_attn.o_proj.lora_A.weight\n",
      "Removing base_model.model.model.layers.1.self_attn.o_proj.lora_B.weight\n",
      "Removing base_model.model.model.layers.1.self_attn.q_proj.lora_A.weight\n",
      "Removing base_model.model.model.layers.1.self_attn.q_proj.lora_B.weight\n",
      "Removing base_model.model.model.layers.1.self_attn.v_proj.lora_A.weight\n",
      "Removing base_model.model.model.layers.1.self_attn.v_proj.lora_B.weight\n",
      "[94, 0, 0, 0, 0, 0, 0, 0, 0, 0, 0, 0, 0, 0, 0, 0, 0, 0, 0, 0, 0, 0, 0, 0, 0, 0, 0, 0, 0, 0, 0, 0]\n",
      "[0, 0, 0, 0, 0, 0, 0, 0, 0, 0, 0, 0, 0, 0, 0, 0, 0, 0, 0, 0, 0, 0, 0, 0, 0, 0, 0, 0, 0, 0, 0, 0]\n"
     ]
    },
    {
     "name": "stderr",
     "output_type": "stream",
     "text": [
      "100%|██████████| 7/7 [00:52<00:00,  7.50s/it]\n"
     ]
    },
    {
     "name": "stdout",
     "output_type": "stream",
     "text": [
      "2\n"
     ]
    },
    {
     "data": {
      "application/vnd.jupyter.widget-view+json": {
       "model_id": "9fd3ae5507ea4cc7b5c7c7ef713deeb0",
       "version_major": 2,
       "version_minor": 0
      },
      "text/plain": [
       "Loading checkpoint shards:   0%|          | 0/4 [00:00<?, ?it/s]"
      ]
     },
     "metadata": {},
     "output_type": "display_data"
    },
    {
     "name": "stdout",
     "output_type": "stream",
     "text": [
      "../results/20240722/traj_cot_bit_x0_squad_ep150/adapter_model.safetensors\n",
      "remove=2\n",
      "Loading weights with remove:  layers.2.\n",
      "Removing base_model.model.model.layers.2.self_attn.k_proj.lora_A.weight\n",
      "Removing base_model.model.model.layers.2.self_attn.k_proj.lora_B.weight\n",
      "Removing base_model.model.model.layers.2.self_attn.o_proj.lora_A.weight\n",
      "Removing base_model.model.model.layers.2.self_attn.o_proj.lora_B.weight\n",
      "Removing base_model.model.model.layers.2.self_attn.q_proj.lora_A.weight\n",
      "Removing base_model.model.model.layers.2.self_attn.q_proj.lora_B.weight\n",
      "Removing base_model.model.model.layers.2.self_attn.v_proj.lora_A.weight\n",
      "Removing base_model.model.model.layers.2.self_attn.v_proj.lora_B.weight\n",
      "[94, 90, 0, 0, 0, 0, 0, 0, 0, 0, 0, 0, 0, 0, 0, 0, 0, 0, 0, 0, 0, 0, 0, 0, 0, 0, 0, 0, 0, 0, 0, 0]\n",
      "[0, 0, 0, 0, 0, 0, 0, 0, 0, 0, 0, 0, 0, 0, 0, 0, 0, 0, 0, 0, 0, 0, 0, 0, 0, 0, 0, 0, 0, 0, 0, 0]\n"
     ]
    },
    {
     "name": "stderr",
     "output_type": "stream",
     "text": [
      "100%|██████████| 7/7 [00:48<00:00,  6.87s/it]"
     ]
    },
    {
     "name": "stdout",
     "output_type": "stream",
     "text": [
      "3\n"
     ]
    },
    {
     "name": "stderr",
     "output_type": "stream",
     "text": [
      "\n"
     ]
    },
    {
     "data": {
      "application/vnd.jupyter.widget-view+json": {
       "model_id": "c49ce1bd78ed439ab386d78cf4dcffc7",
       "version_major": 2,
       "version_minor": 0
      },
      "text/plain": [
       "Loading checkpoint shards:   0%|          | 0/4 [00:00<?, ?it/s]"
      ]
     },
     "metadata": {},
     "output_type": "display_data"
    },
    {
     "name": "stdout",
     "output_type": "stream",
     "text": [
      "../results/20240722/traj_cot_bit_x0_squad_ep150/adapter_model.safetensors\n",
      "remove=3\n",
      "Loading weights with remove:  layers.3.\n",
      "Removing base_model.model.model.layers.3.self_attn.k_proj.lora_A.weight\n",
      "Removing base_model.model.model.layers.3.self_attn.k_proj.lora_B.weight\n",
      "Removing base_model.model.model.layers.3.self_attn.o_proj.lora_A.weight\n",
      "Removing base_model.model.model.layers.3.self_attn.o_proj.lora_B.weight\n",
      "Removing base_model.model.model.layers.3.self_attn.q_proj.lora_A.weight\n",
      "Removing base_model.model.model.layers.3.self_attn.q_proj.lora_B.weight\n",
      "Removing base_model.model.model.layers.3.self_attn.v_proj.lora_A.weight\n",
      "Removing base_model.model.model.layers.3.self_attn.v_proj.lora_B.weight\n",
      "[94, 90, 90, 0, 0, 0, 0, 0, 0, 0, 0, 0, 0, 0, 0, 0, 0, 0, 0, 0, 0, 0, 0, 0, 0, 0, 0, 0, 0, 0, 0, 0]\n",
      "[0, 0, 0, 0, 0, 0, 0, 0, 0, 0, 0, 0, 0, 0, 0, 0, 0, 0, 0, 0, 0, 0, 0, 0, 0, 0, 0, 0, 0, 0, 0, 0]\n"
     ]
    },
    {
     "name": "stderr",
     "output_type": "stream",
     "text": [
      "100%|██████████| 7/7 [00:43<00:00,  6.17s/it]"
     ]
    },
    {
     "name": "stdout",
     "output_type": "stream",
     "text": [
      "4\n"
     ]
    },
    {
     "name": "stderr",
     "output_type": "stream",
     "text": [
      "\n"
     ]
    },
    {
     "data": {
      "application/vnd.jupyter.widget-view+json": {
       "model_id": "784b0228eb0c49bfa8ebb106330ab33e",
       "version_major": 2,
       "version_minor": 0
      },
      "text/plain": [
       "Loading checkpoint shards:   0%|          | 0/4 [00:00<?, ?it/s]"
      ]
     },
     "metadata": {},
     "output_type": "display_data"
    },
    {
     "name": "stdout",
     "output_type": "stream",
     "text": [
      "../results/20240722/traj_cot_bit_x0_squad_ep150/adapter_model.safetensors\n",
      "remove=4\n",
      "Loading weights with remove:  layers.4.\n",
      "Removing base_model.model.model.layers.4.self_attn.k_proj.lora_A.weight\n",
      "Removing base_model.model.model.layers.4.self_attn.k_proj.lora_B.weight\n",
      "Removing base_model.model.model.layers.4.self_attn.o_proj.lora_A.weight\n",
      "Removing base_model.model.model.layers.4.self_attn.o_proj.lora_B.weight\n",
      "Removing base_model.model.model.layers.4.self_attn.q_proj.lora_A.weight\n",
      "Removing base_model.model.model.layers.4.self_attn.q_proj.lora_B.weight\n",
      "Removing base_model.model.model.layers.4.self_attn.v_proj.lora_A.weight\n",
      "Removing base_model.model.model.layers.4.self_attn.v_proj.lora_B.weight\n",
      "[94, 90, 90, 91, 0, 0, 0, 0, 0, 0, 0, 0, 0, 0, 0, 0, 0, 0, 0, 0, 0, 0, 0, 0, 0, 0, 0, 0, 0, 0, 0, 0]\n",
      "[0, 0, 0, 0, 0, 0, 0, 0, 0, 0, 0, 0, 0, 0, 0, 0, 0, 0, 0, 0, 0, 0, 0, 0, 0, 0, 0, 0, 0, 0, 0, 0]\n"
     ]
    },
    {
     "name": "stderr",
     "output_type": "stream",
     "text": [
      "100%|██████████| 7/7 [00:41<00:00,  5.97s/it]"
     ]
    },
    {
     "name": "stdout",
     "output_type": "stream",
     "text": [
      "5\n"
     ]
    },
    {
     "name": "stderr",
     "output_type": "stream",
     "text": [
      "\n"
     ]
    },
    {
     "data": {
      "application/vnd.jupyter.widget-view+json": {
       "model_id": "f20c4c46b1c84753a07739577e0a1ed5",
       "version_major": 2,
       "version_minor": 0
      },
      "text/plain": [
       "Loading checkpoint shards:   0%|          | 0/4 [00:00<?, ?it/s]"
      ]
     },
     "metadata": {},
     "output_type": "display_data"
    },
    {
     "name": "stdout",
     "output_type": "stream",
     "text": [
      "../results/20240722/traj_cot_bit_x0_squad_ep150/adapter_model.safetensors\n",
      "remove=5\n",
      "Loading weights with remove:  layers.5.\n",
      "Removing base_model.model.model.layers.5.self_attn.k_proj.lora_A.weight\n",
      "Removing base_model.model.model.layers.5.self_attn.k_proj.lora_B.weight\n",
      "Removing base_model.model.model.layers.5.self_attn.o_proj.lora_A.weight\n",
      "Removing base_model.model.model.layers.5.self_attn.o_proj.lora_B.weight\n",
      "Removing base_model.model.model.layers.5.self_attn.q_proj.lora_A.weight\n",
      "Removing base_model.model.model.layers.5.self_attn.q_proj.lora_B.weight\n",
      "Removing base_model.model.model.layers.5.self_attn.v_proj.lora_A.weight\n",
      "Removing base_model.model.model.layers.5.self_attn.v_proj.lora_B.weight\n",
      "[94, 90, 90, 91, 93, 0, 0, 0, 0, 0, 0, 0, 0, 0, 0, 0, 0, 0, 0, 0, 0, 0, 0, 0, 0, 0, 0, 0, 0, 0, 0, 0]\n",
      "[0, 0, 0, 0, 0, 0, 0, 0, 0, 0, 0, 0, 0, 0, 0, 0, 0, 0, 0, 0, 0, 0, 0, 0, 0, 0, 0, 0, 0, 0, 0, 0]\n"
     ]
    },
    {
     "name": "stderr",
     "output_type": "stream",
     "text": [
      "100%|██████████| 7/7 [00:52<00:00,  7.47s/it]"
     ]
    },
    {
     "name": "stdout",
     "output_type": "stream",
     "text": [
      "6\n"
     ]
    },
    {
     "name": "stderr",
     "output_type": "stream",
     "text": [
      "\n"
     ]
    },
    {
     "data": {
      "application/vnd.jupyter.widget-view+json": {
       "model_id": "c142b4b0685c4725b6b6f363693e6047",
       "version_major": 2,
       "version_minor": 0
      },
      "text/plain": [
       "Loading checkpoint shards:   0%|          | 0/4 [00:00<?, ?it/s]"
      ]
     },
     "metadata": {},
     "output_type": "display_data"
    },
    {
     "name": "stdout",
     "output_type": "stream",
     "text": [
      "../results/20240722/traj_cot_bit_x0_squad_ep150/adapter_model.safetensors\n",
      "remove=6\n",
      "Loading weights with remove:  layers.6.\n",
      "Removing base_model.model.model.layers.6.self_attn.k_proj.lora_A.weight\n",
      "Removing base_model.model.model.layers.6.self_attn.k_proj.lora_B.weight\n",
      "Removing base_model.model.model.layers.6.self_attn.o_proj.lora_A.weight\n",
      "Removing base_model.model.model.layers.6.self_attn.o_proj.lora_B.weight\n",
      "Removing base_model.model.model.layers.6.self_attn.q_proj.lora_A.weight\n",
      "Removing base_model.model.model.layers.6.self_attn.q_proj.lora_B.weight\n",
      "Removing base_model.model.model.layers.6.self_attn.v_proj.lora_A.weight\n",
      "Removing base_model.model.model.layers.6.self_attn.v_proj.lora_B.weight\n",
      "[94, 90, 90, 91, 93, 95, 0, 0, 0, 0, 0, 0, 0, 0, 0, 0, 0, 0, 0, 0, 0, 0, 0, 0, 0, 0, 0, 0, 0, 0, 0, 0]\n",
      "[0, 0, 0, 0, 0, 0, 0, 0, 0, 0, 0, 0, 0, 0, 0, 0, 0, 0, 0, 0, 0, 0, 0, 0, 0, 0, 0, 0, 0, 0, 0, 0]\n"
     ]
    },
    {
     "name": "stderr",
     "output_type": "stream",
     "text": [
      "100%|██████████| 7/7 [00:46<00:00,  6.63s/it]"
     ]
    },
    {
     "name": "stdout",
     "output_type": "stream",
     "text": [
      "7\n"
     ]
    },
    {
     "name": "stderr",
     "output_type": "stream",
     "text": [
      "\n"
     ]
    },
    {
     "data": {
      "application/vnd.jupyter.widget-view+json": {
       "model_id": "207d8f00625e4258b8f8becbe39d1fb6",
       "version_major": 2,
       "version_minor": 0
      },
      "text/plain": [
       "Loading checkpoint shards:   0%|          | 0/4 [00:00<?, ?it/s]"
      ]
     },
     "metadata": {},
     "output_type": "display_data"
    },
    {
     "name": "stdout",
     "output_type": "stream",
     "text": [
      "../results/20240722/traj_cot_bit_x0_squad_ep150/adapter_model.safetensors\n",
      "remove=7\n",
      "Loading weights with remove:  layers.7.\n",
      "Removing base_model.model.model.layers.7.self_attn.k_proj.lora_A.weight\n",
      "Removing base_model.model.model.layers.7.self_attn.k_proj.lora_B.weight\n",
      "Removing base_model.model.model.layers.7.self_attn.o_proj.lora_A.weight\n",
      "Removing base_model.model.model.layers.7.self_attn.o_proj.lora_B.weight\n",
      "Removing base_model.model.model.layers.7.self_attn.q_proj.lora_A.weight\n",
      "Removing base_model.model.model.layers.7.self_attn.q_proj.lora_B.weight\n",
      "Removing base_model.model.model.layers.7.self_attn.v_proj.lora_A.weight\n",
      "Removing base_model.model.model.layers.7.self_attn.v_proj.lora_B.weight\n",
      "[94, 90, 90, 91, 93, 95, 92, 0, 0, 0, 0, 0, 0, 0, 0, 0, 0, 0, 0, 0, 0, 0, 0, 0, 0, 0, 0, 0, 0, 0, 0, 0]\n",
      "[0, 0, 0, 0, 0, 0, 0, 0, 0, 0, 0, 0, 0, 0, 0, 0, 0, 0, 0, 0, 0, 0, 0, 0, 0, 0, 0, 0, 0, 0, 0, 0]\n"
     ]
    },
    {
     "name": "stderr",
     "output_type": "stream",
     "text": [
      "100%|██████████| 7/7 [00:40<00:00,  5.85s/it]"
     ]
    },
    {
     "name": "stdout",
     "output_type": "stream",
     "text": [
      "8\n"
     ]
    },
    {
     "name": "stderr",
     "output_type": "stream",
     "text": [
      "\n"
     ]
    },
    {
     "data": {
      "application/vnd.jupyter.widget-view+json": {
       "model_id": "c29d0b3a180a48e0904b0a481e32e0c3",
       "version_major": 2,
       "version_minor": 0
      },
      "text/plain": [
       "Loading checkpoint shards:   0%|          | 0/4 [00:00<?, ?it/s]"
      ]
     },
     "metadata": {},
     "output_type": "display_data"
    },
    {
     "name": "stdout",
     "output_type": "stream",
     "text": [
      "../results/20240722/traj_cot_bit_x0_squad_ep150/adapter_model.safetensors\n",
      "remove=8\n",
      "Loading weights with remove:  layers.8.\n",
      "Removing base_model.model.model.layers.8.self_attn.k_proj.lora_A.weight\n",
      "Removing base_model.model.model.layers.8.self_attn.k_proj.lora_B.weight\n",
      "Removing base_model.model.model.layers.8.self_attn.o_proj.lora_A.weight\n",
      "Removing base_model.model.model.layers.8.self_attn.o_proj.lora_B.weight\n",
      "Removing base_model.model.model.layers.8.self_attn.q_proj.lora_A.weight\n",
      "Removing base_model.model.model.layers.8.self_attn.q_proj.lora_B.weight\n",
      "Removing base_model.model.model.layers.8.self_attn.v_proj.lora_A.weight\n",
      "Removing base_model.model.model.layers.8.self_attn.v_proj.lora_B.weight\n",
      "[94, 90, 90, 91, 93, 95, 92, 92, 0, 0, 0, 0, 0, 0, 0, 0, 0, 0, 0, 0, 0, 0, 0, 0, 0, 0, 0, 0, 0, 0, 0, 0]\n",
      "[0, 0, 0, 0, 0, 0, 0, 0, 0, 0, 0, 0, 0, 0, 0, 0, 0, 0, 0, 0, 0, 0, 0, 0, 0, 0, 0, 0, 0, 0, 0, 0]\n"
     ]
    },
    {
     "name": "stderr",
     "output_type": "stream",
     "text": [
      "100%|██████████| 7/7 [00:46<00:00,  6.60s/it]"
     ]
    },
    {
     "name": "stdout",
     "output_type": "stream",
     "text": [
      "9\n"
     ]
    },
    {
     "name": "stderr",
     "output_type": "stream",
     "text": [
      "\n"
     ]
    },
    {
     "data": {
      "application/vnd.jupyter.widget-view+json": {
       "model_id": "06e0c9227e664f13ac4731a7c877eedf",
       "version_major": 2,
       "version_minor": 0
      },
      "text/plain": [
       "Loading checkpoint shards:   0%|          | 0/4 [00:00<?, ?it/s]"
      ]
     },
     "metadata": {},
     "output_type": "display_data"
    },
    {
     "name": "stdout",
     "output_type": "stream",
     "text": [
      "../results/20240722/traj_cot_bit_x0_squad_ep150/adapter_model.safetensors\n",
      "remove=9\n",
      "Loading weights with remove:  layers.9.\n",
      "Removing base_model.model.model.layers.9.self_attn.k_proj.lora_A.weight\n",
      "Removing base_model.model.model.layers.9.self_attn.k_proj.lora_B.weight\n",
      "Removing base_model.model.model.layers.9.self_attn.o_proj.lora_A.weight\n",
      "Removing base_model.model.model.layers.9.self_attn.o_proj.lora_B.weight\n",
      "Removing base_model.model.model.layers.9.self_attn.q_proj.lora_A.weight\n",
      "Removing base_model.model.model.layers.9.self_attn.q_proj.lora_B.weight\n",
      "Removing base_model.model.model.layers.9.self_attn.v_proj.lora_A.weight\n",
      "Removing base_model.model.model.layers.9.self_attn.v_proj.lora_B.weight\n",
      "[94, 90, 90, 91, 93, 95, 92, 92, 92, 0, 0, 0, 0, 0, 0, 0, 0, 0, 0, 0, 0, 0, 0, 0, 0, 0, 0, 0, 0, 0, 0, 0]\n",
      "[0, 0, 0, 0, 0, 0, 0, 0, 0, 0, 0, 0, 0, 0, 0, 0, 0, 0, 0, 0, 0, 0, 0, 0, 0, 0, 0, 0, 0, 0, 0, 0]\n"
     ]
    },
    {
     "name": "stderr",
     "output_type": "stream",
     "text": [
      "100%|██████████| 7/7 [00:49<00:00,  7.12s/it]"
     ]
    },
    {
     "name": "stdout",
     "output_type": "stream",
     "text": [
      "10\n"
     ]
    },
    {
     "name": "stderr",
     "output_type": "stream",
     "text": [
      "\n"
     ]
    },
    {
     "data": {
      "application/vnd.jupyter.widget-view+json": {
       "model_id": "10a2666e9b5444619ffed725a9e49b3b",
       "version_major": 2,
       "version_minor": 0
      },
      "text/plain": [
       "Loading checkpoint shards:   0%|          | 0/4 [00:00<?, ?it/s]"
      ]
     },
     "metadata": {},
     "output_type": "display_data"
    },
    {
     "name": "stdout",
     "output_type": "stream",
     "text": [
      "../results/20240722/traj_cot_bit_x0_squad_ep150/adapter_model.safetensors\n",
      "remove=10\n",
      "Loading weights with remove:  layers.10.\n",
      "Removing base_model.model.model.layers.10.self_attn.k_proj.lora_A.weight\n",
      "Removing base_model.model.model.layers.10.self_attn.k_proj.lora_B.weight\n",
      "Removing base_model.model.model.layers.10.self_attn.o_proj.lora_A.weight\n",
      "Removing base_model.model.model.layers.10.self_attn.o_proj.lora_B.weight\n",
      "Removing base_model.model.model.layers.10.self_attn.q_proj.lora_A.weight\n",
      "Removing base_model.model.model.layers.10.self_attn.q_proj.lora_B.weight\n",
      "Removing base_model.model.model.layers.10.self_attn.v_proj.lora_A.weight\n",
      "Removing base_model.model.model.layers.10.self_attn.v_proj.lora_B.weight\n",
      "[94, 90, 90, 91, 93, 95, 92, 92, 92, 94, 0, 0, 0, 0, 0, 0, 0, 0, 0, 0, 0, 0, 0, 0, 0, 0, 0, 0, 0, 0, 0, 0]\n",
      "[0, 0, 0, 0, 0, 0, 0, 0, 0, 0, 0, 0, 0, 0, 0, 0, 0, 0, 0, 0, 0, 0, 0, 0, 0, 0, 0, 0, 0, 0, 0, 0]\n"
     ]
    },
    {
     "name": "stderr",
     "output_type": "stream",
     "text": [
      "100%|██████████| 7/7 [00:50<00:00,  7.28s/it]"
     ]
    },
    {
     "name": "stdout",
     "output_type": "stream",
     "text": [
      "11\n"
     ]
    },
    {
     "name": "stderr",
     "output_type": "stream",
     "text": [
      "\n"
     ]
    },
    {
     "data": {
      "application/vnd.jupyter.widget-view+json": {
       "model_id": "3ec99cc303d44e5588affdfcbc607169",
       "version_major": 2,
       "version_minor": 0
      },
      "text/plain": [
       "Loading checkpoint shards:   0%|          | 0/4 [00:00<?, ?it/s]"
      ]
     },
     "metadata": {},
     "output_type": "display_data"
    },
    {
     "name": "stdout",
     "output_type": "stream",
     "text": [
      "../results/20240722/traj_cot_bit_x0_squad_ep150/adapter_model.safetensors\n",
      "remove=11\n",
      "Loading weights with remove:  layers.11.\n",
      "Removing base_model.model.model.layers.11.self_attn.k_proj.lora_A.weight\n",
      "Removing base_model.model.model.layers.11.self_attn.k_proj.lora_B.weight\n",
      "Removing base_model.model.model.layers.11.self_attn.o_proj.lora_A.weight\n",
      "Removing base_model.model.model.layers.11.self_attn.o_proj.lora_B.weight\n",
      "Removing base_model.model.model.layers.11.self_attn.q_proj.lora_A.weight\n",
      "Removing base_model.model.model.layers.11.self_attn.q_proj.lora_B.weight\n",
      "Removing base_model.model.model.layers.11.self_attn.v_proj.lora_A.weight\n",
      "Removing base_model.model.model.layers.11.self_attn.v_proj.lora_B.weight\n",
      "[94, 90, 90, 91, 93, 95, 92, 92, 92, 94, 94, 0, 0, 0, 0, 0, 0, 0, 0, 0, 0, 0, 0, 0, 0, 0, 0, 0, 0, 0, 0, 0]\n",
      "[0, 0, 0, 0, 0, 0, 0, 0, 0, 0, 0, 0, 0, 0, 0, 0, 0, 0, 0, 0, 0, 0, 0, 0, 0, 0, 0, 0, 0, 0, 0, 0]\n"
     ]
    },
    {
     "name": "stderr",
     "output_type": "stream",
     "text": [
      "100%|██████████| 7/7 [00:52<00:00,  7.49s/it]"
     ]
    },
    {
     "name": "stdout",
     "output_type": "stream",
     "text": [
      "12\n"
     ]
    },
    {
     "name": "stderr",
     "output_type": "stream",
     "text": [
      "\n"
     ]
    },
    {
     "data": {
      "application/vnd.jupyter.widget-view+json": {
       "model_id": "ba4728b8e4924cd6a52f0b0d2d6bf27b",
       "version_major": 2,
       "version_minor": 0
      },
      "text/plain": [
       "Loading checkpoint shards:   0%|          | 0/4 [00:00<?, ?it/s]"
      ]
     },
     "metadata": {},
     "output_type": "display_data"
    },
    {
     "name": "stdout",
     "output_type": "stream",
     "text": [
      "../results/20240722/traj_cot_bit_x0_squad_ep150/adapter_model.safetensors\n",
      "remove=12\n",
      "Loading weights with remove:  layers.12.\n",
      "Removing base_model.model.model.layers.12.self_attn.k_proj.lora_A.weight\n",
      "Removing base_model.model.model.layers.12.self_attn.k_proj.lora_B.weight\n",
      "Removing base_model.model.model.layers.12.self_attn.o_proj.lora_A.weight\n",
      "Removing base_model.model.model.layers.12.self_attn.o_proj.lora_B.weight\n",
      "Removing base_model.model.model.layers.12.self_attn.q_proj.lora_A.weight\n",
      "Removing base_model.model.model.layers.12.self_attn.q_proj.lora_B.weight\n",
      "Removing base_model.model.model.layers.12.self_attn.v_proj.lora_A.weight\n",
      "Removing base_model.model.model.layers.12.self_attn.v_proj.lora_B.weight\n",
      "[94, 90, 90, 91, 93, 95, 92, 92, 92, 94, 94, 95, 0, 0, 0, 0, 0, 0, 0, 0, 0, 0, 0, 0, 0, 0, 0, 0, 0, 0, 0, 0]\n",
      "[0, 0, 0, 0, 0, 0, 0, 0, 0, 0, 0, 0, 0, 0, 0, 0, 0, 0, 0, 0, 0, 0, 0, 0, 0, 0, 0, 0, 0, 0, 0, 0]\n"
     ]
    },
    {
     "name": "stderr",
     "output_type": "stream",
     "text": [
      "100%|██████████| 7/7 [00:49<00:00,  7.12s/it]"
     ]
    },
    {
     "name": "stdout",
     "output_type": "stream",
     "text": [
      "13\n"
     ]
    },
    {
     "name": "stderr",
     "output_type": "stream",
     "text": [
      "\n"
     ]
    },
    {
     "data": {
      "application/vnd.jupyter.widget-view+json": {
       "model_id": "270984ff7ec944b795fe148b1bc7bb72",
       "version_major": 2,
       "version_minor": 0
      },
      "text/plain": [
       "Loading checkpoint shards:   0%|          | 0/4 [00:00<?, ?it/s]"
      ]
     },
     "metadata": {},
     "output_type": "display_data"
    },
    {
     "name": "stdout",
     "output_type": "stream",
     "text": [
      "../results/20240722/traj_cot_bit_x0_squad_ep150/adapter_model.safetensors\n",
      "remove=13\n",
      "Loading weights with remove:  layers.13.\n",
      "Removing base_model.model.model.layers.13.self_attn.k_proj.lora_A.weight\n",
      "Removing base_model.model.model.layers.13.self_attn.k_proj.lora_B.weight\n",
      "Removing base_model.model.model.layers.13.self_attn.o_proj.lora_A.weight\n",
      "Removing base_model.model.model.layers.13.self_attn.o_proj.lora_B.weight\n",
      "Removing base_model.model.model.layers.13.self_attn.q_proj.lora_A.weight\n",
      "Removing base_model.model.model.layers.13.self_attn.q_proj.lora_B.weight\n",
      "Removing base_model.model.model.layers.13.self_attn.v_proj.lora_A.weight\n",
      "Removing base_model.model.model.layers.13.self_attn.v_proj.lora_B.weight\n",
      "[94, 90, 90, 91, 93, 95, 92, 92, 92, 94, 94, 95, 94, 0, 0, 0, 0, 0, 0, 0, 0, 0, 0, 0, 0, 0, 0, 0, 0, 0, 0, 0]\n",
      "[0, 0, 0, 0, 0, 0, 0, 0, 0, 0, 0, 0, 0, 0, 0, 0, 0, 0, 0, 0, 0, 0, 0, 0, 0, 0, 0, 0, 0, 0, 0, 0]\n"
     ]
    },
    {
     "name": "stderr",
     "output_type": "stream",
     "text": [
      "100%|██████████| 7/7 [00:47<00:00,  6.83s/it]"
     ]
    },
    {
     "name": "stdout",
     "output_type": "stream",
     "text": [
      "14\n"
     ]
    },
    {
     "name": "stderr",
     "output_type": "stream",
     "text": [
      "\n"
     ]
    },
    {
     "data": {
      "application/vnd.jupyter.widget-view+json": {
       "model_id": "1fb652e8fb1b43e0995a4d469654d410",
       "version_major": 2,
       "version_minor": 0
      },
      "text/plain": [
       "Loading checkpoint shards:   0%|          | 0/4 [00:00<?, ?it/s]"
      ]
     },
     "metadata": {},
     "output_type": "display_data"
    },
    {
     "name": "stdout",
     "output_type": "stream",
     "text": [
      "../results/20240722/traj_cot_bit_x0_squad_ep150/adapter_model.safetensors\n",
      "remove=14\n",
      "Loading weights with remove:  layers.14.\n",
      "Removing base_model.model.model.layers.14.self_attn.k_proj.lora_A.weight\n",
      "Removing base_model.model.model.layers.14.self_attn.k_proj.lora_B.weight\n",
      "Removing base_model.model.model.layers.14.self_attn.o_proj.lora_A.weight\n",
      "Removing base_model.model.model.layers.14.self_attn.o_proj.lora_B.weight\n",
      "Removing base_model.model.model.layers.14.self_attn.q_proj.lora_A.weight\n",
      "Removing base_model.model.model.layers.14.self_attn.q_proj.lora_B.weight\n",
      "Removing base_model.model.model.layers.14.self_attn.v_proj.lora_A.weight\n",
      "Removing base_model.model.model.layers.14.self_attn.v_proj.lora_B.weight\n",
      "[94, 90, 90, 91, 93, 95, 92, 92, 92, 94, 94, 95, 94, 93, 0, 0, 0, 0, 0, 0, 0, 0, 0, 0, 0, 0, 0, 0, 0, 0, 0, 0]\n",
      "[0, 0, 0, 0, 0, 0, 0, 0, 0, 0, 0, 0, 0, 0, 0, 0, 0, 0, 0, 0, 0, 0, 0, 0, 0, 0, 0, 0, 0, 0, 0, 0]\n"
     ]
    },
    {
     "name": "stderr",
     "output_type": "stream",
     "text": [
      "100%|██████████| 7/7 [00:49<00:00,  7.01s/it]"
     ]
    },
    {
     "name": "stdout",
     "output_type": "stream",
     "text": [
      "15\n"
     ]
    },
    {
     "name": "stderr",
     "output_type": "stream",
     "text": [
      "\n"
     ]
    },
    {
     "data": {
      "application/vnd.jupyter.widget-view+json": {
       "model_id": "9f113759506c4e3ebd6032fe8a29189d",
       "version_major": 2,
       "version_minor": 0
      },
      "text/plain": [
       "Loading checkpoint shards:   0%|          | 0/4 [00:00<?, ?it/s]"
      ]
     },
     "metadata": {},
     "output_type": "display_data"
    },
    {
     "name": "stdout",
     "output_type": "stream",
     "text": [
      "../results/20240722/traj_cot_bit_x0_squad_ep150/adapter_model.safetensors\n",
      "remove=15\n",
      "Loading weights with remove:  layers.15.\n",
      "Removing base_model.model.model.layers.15.self_attn.k_proj.lora_A.weight\n",
      "Removing base_model.model.model.layers.15.self_attn.k_proj.lora_B.weight\n",
      "Removing base_model.model.model.layers.15.self_attn.o_proj.lora_A.weight\n",
      "Removing base_model.model.model.layers.15.self_attn.o_proj.lora_B.weight\n",
      "Removing base_model.model.model.layers.15.self_attn.q_proj.lora_A.weight\n",
      "Removing base_model.model.model.layers.15.self_attn.q_proj.lora_B.weight\n",
      "Removing base_model.model.model.layers.15.self_attn.v_proj.lora_A.weight\n",
      "Removing base_model.model.model.layers.15.self_attn.v_proj.lora_B.weight\n",
      "[94, 90, 90, 91, 93, 95, 92, 92, 92, 94, 94, 95, 94, 93, 96, 0, 0, 0, 0, 0, 0, 0, 0, 0, 0, 0, 0, 0, 0, 0, 0, 0]\n",
      "[0, 0, 0, 0, 0, 0, 0, 0, 0, 0, 0, 0, 0, 0, 0, 0, 0, 0, 0, 0, 0, 0, 0, 0, 0, 0, 0, 0, 0, 0, 0, 0]\n"
     ]
    },
    {
     "name": "stderr",
     "output_type": "stream",
     "text": [
      "100%|██████████| 7/7 [00:50<00:00,  7.28s/it]"
     ]
    },
    {
     "name": "stdout",
     "output_type": "stream",
     "text": [
      "16\n"
     ]
    },
    {
     "name": "stderr",
     "output_type": "stream",
     "text": [
      "\n"
     ]
    },
    {
     "data": {
      "application/vnd.jupyter.widget-view+json": {
       "model_id": "436104ec33f8413d8295956b25866e59",
       "version_major": 2,
       "version_minor": 0
      },
      "text/plain": [
       "Loading checkpoint shards:   0%|          | 0/4 [00:00<?, ?it/s]"
      ]
     },
     "metadata": {},
     "output_type": "display_data"
    },
    {
     "name": "stdout",
     "output_type": "stream",
     "text": [
      "../results/20240722/traj_cot_bit_x0_squad_ep150/adapter_model.safetensors\n",
      "remove=16\n",
      "Loading weights with remove:  layers.16.\n",
      "Removing base_model.model.model.layers.16.self_attn.k_proj.lora_A.weight\n",
      "Removing base_model.model.model.layers.16.self_attn.k_proj.lora_B.weight\n",
      "Removing base_model.model.model.layers.16.self_attn.o_proj.lora_A.weight\n",
      "Removing base_model.model.model.layers.16.self_attn.o_proj.lora_B.weight\n",
      "Removing base_model.model.model.layers.16.self_attn.q_proj.lora_A.weight\n",
      "Removing base_model.model.model.layers.16.self_attn.q_proj.lora_B.weight\n",
      "Removing base_model.model.model.layers.16.self_attn.v_proj.lora_A.weight\n",
      "Removing base_model.model.model.layers.16.self_attn.v_proj.lora_B.weight\n",
      "[94, 90, 90, 91, 93, 95, 92, 92, 92, 94, 94, 95, 94, 93, 96, 91, 0, 0, 0, 0, 0, 0, 0, 0, 0, 0, 0, 0, 0, 0, 0, 0]\n",
      "[0, 0, 0, 0, 0, 0, 0, 0, 0, 0, 0, 0, 0, 0, 0, 0, 0, 0, 0, 0, 0, 0, 0, 0, 0, 0, 0, 0, 0, 0, 0, 0]\n"
     ]
    },
    {
     "name": "stderr",
     "output_type": "stream",
     "text": [
      "100%|██████████| 7/7 [00:49<00:00,  7.06s/it]"
     ]
    },
    {
     "name": "stdout",
     "output_type": "stream",
     "text": [
      "17\n"
     ]
    },
    {
     "name": "stderr",
     "output_type": "stream",
     "text": [
      "\n"
     ]
    },
    {
     "data": {
      "application/vnd.jupyter.widget-view+json": {
       "model_id": "3986c59c4e864fa1b0476caf704d8664",
       "version_major": 2,
       "version_minor": 0
      },
      "text/plain": [
       "Loading checkpoint shards:   0%|          | 0/4 [00:00<?, ?it/s]"
      ]
     },
     "metadata": {},
     "output_type": "display_data"
    },
    {
     "name": "stdout",
     "output_type": "stream",
     "text": [
      "../results/20240722/traj_cot_bit_x0_squad_ep150/adapter_model.safetensors\n",
      "remove=17\n",
      "Loading weights with remove:  layers.17.\n",
      "Removing base_model.model.model.layers.17.self_attn.k_proj.lora_A.weight\n",
      "Removing base_model.model.model.layers.17.self_attn.k_proj.lora_B.weight\n",
      "Removing base_model.model.model.layers.17.self_attn.o_proj.lora_A.weight\n",
      "Removing base_model.model.model.layers.17.self_attn.o_proj.lora_B.weight\n",
      "Removing base_model.model.model.layers.17.self_attn.q_proj.lora_A.weight\n",
      "Removing base_model.model.model.layers.17.self_attn.q_proj.lora_B.weight\n",
      "Removing base_model.model.model.layers.17.self_attn.v_proj.lora_A.weight\n",
      "Removing base_model.model.model.layers.17.self_attn.v_proj.lora_B.weight\n",
      "[94, 90, 90, 91, 93, 95, 92, 92, 92, 94, 94, 95, 94, 93, 96, 91, 92, 0, 0, 0, 0, 0, 0, 0, 0, 0, 0, 0, 0, 0, 0, 0]\n",
      "[0, 0, 0, 0, 0, 0, 0, 0, 0, 0, 0, 0, 0, 0, 0, 0, 0, 0, 0, 0, 0, 0, 0, 0, 0, 0, 0, 0, 0, 0, 0, 0]\n"
     ]
    },
    {
     "name": "stderr",
     "output_type": "stream",
     "text": [
      "100%|██████████| 7/7 [00:51<00:00,  7.41s/it]"
     ]
    },
    {
     "name": "stdout",
     "output_type": "stream",
     "text": [
      "18\n"
     ]
    },
    {
     "name": "stderr",
     "output_type": "stream",
     "text": [
      "\n"
     ]
    },
    {
     "data": {
      "application/vnd.jupyter.widget-view+json": {
       "model_id": "9360a985b8cd49ee9a577c2d3c41911e",
       "version_major": 2,
       "version_minor": 0
      },
      "text/plain": [
       "Loading checkpoint shards:   0%|          | 0/4 [00:00<?, ?it/s]"
      ]
     },
     "metadata": {},
     "output_type": "display_data"
    },
    {
     "name": "stdout",
     "output_type": "stream",
     "text": [
      "../results/20240722/traj_cot_bit_x0_squad_ep150/adapter_model.safetensors\n",
      "remove=18\n",
      "Loading weights with remove:  layers.18.\n",
      "Removing base_model.model.model.layers.18.self_attn.k_proj.lora_A.weight\n",
      "Removing base_model.model.model.layers.18.self_attn.k_proj.lora_B.weight\n",
      "Removing base_model.model.model.layers.18.self_attn.o_proj.lora_A.weight\n",
      "Removing base_model.model.model.layers.18.self_attn.o_proj.lora_B.weight\n",
      "Removing base_model.model.model.layers.18.self_attn.q_proj.lora_A.weight\n",
      "Removing base_model.model.model.layers.18.self_attn.q_proj.lora_B.weight\n",
      "Removing base_model.model.model.layers.18.self_attn.v_proj.lora_A.weight\n",
      "Removing base_model.model.model.layers.18.self_attn.v_proj.lora_B.weight\n",
      "[94, 90, 90, 91, 93, 95, 92, 92, 92, 94, 94, 95, 94, 93, 96, 91, 92, 94, 0, 0, 0, 0, 0, 0, 0, 0, 0, 0, 0, 0, 0, 0]\n",
      "[0, 0, 0, 0, 0, 0, 0, 0, 0, 0, 0, 0, 0, 0, 0, 0, 0, 0, 0, 0, 0, 0, 0, 0, 0, 0, 0, 0, 0, 0, 0, 0]\n"
     ]
    },
    {
     "name": "stderr",
     "output_type": "stream",
     "text": [
      "100%|██████████| 7/7 [00:51<00:00,  7.35s/it]"
     ]
    },
    {
     "name": "stdout",
     "output_type": "stream",
     "text": [
      "19\n"
     ]
    },
    {
     "name": "stderr",
     "output_type": "stream",
     "text": [
      "\n"
     ]
    },
    {
     "data": {
      "application/vnd.jupyter.widget-view+json": {
       "model_id": "677dc983cdd94a65ab00a75f13841b7a",
       "version_major": 2,
       "version_minor": 0
      },
      "text/plain": [
       "Loading checkpoint shards:   0%|          | 0/4 [00:00<?, ?it/s]"
      ]
     },
     "metadata": {},
     "output_type": "display_data"
    },
    {
     "name": "stdout",
     "output_type": "stream",
     "text": [
      "../results/20240722/traj_cot_bit_x0_squad_ep150/adapter_model.safetensors\n",
      "remove=19\n",
      "Loading weights with remove:  layers.19.\n",
      "Removing base_model.model.model.layers.19.self_attn.k_proj.lora_A.weight\n",
      "Removing base_model.model.model.layers.19.self_attn.k_proj.lora_B.weight\n",
      "Removing base_model.model.model.layers.19.self_attn.o_proj.lora_A.weight\n",
      "Removing base_model.model.model.layers.19.self_attn.o_proj.lora_B.weight\n",
      "Removing base_model.model.model.layers.19.self_attn.q_proj.lora_A.weight\n",
      "Removing base_model.model.model.layers.19.self_attn.q_proj.lora_B.weight\n",
      "Removing base_model.model.model.layers.19.self_attn.v_proj.lora_A.weight\n",
      "Removing base_model.model.model.layers.19.self_attn.v_proj.lora_B.weight\n",
      "[94, 90, 90, 91, 93, 95, 92, 92, 92, 94, 94, 95, 94, 93, 96, 91, 92, 94, 92, 0, 0, 0, 0, 0, 0, 0, 0, 0, 0, 0, 0, 0]\n",
      "[0, 0, 0, 0, 0, 0, 0, 0, 0, 0, 0, 0, 0, 0, 0, 0, 0, 0, 0, 0, 0, 0, 0, 0, 0, 0, 0, 0, 0, 0, 0, 0]\n"
     ]
    },
    {
     "name": "stderr",
     "output_type": "stream",
     "text": [
      "100%|██████████| 7/7 [00:50<00:00,  7.21s/it]"
     ]
    },
    {
     "name": "stdout",
     "output_type": "stream",
     "text": [
      "20\n"
     ]
    },
    {
     "name": "stderr",
     "output_type": "stream",
     "text": [
      "\n"
     ]
    },
    {
     "data": {
      "application/vnd.jupyter.widget-view+json": {
       "model_id": "5d69b2577a014c37b24ba0b4641f4c45",
       "version_major": 2,
       "version_minor": 0
      },
      "text/plain": [
       "Loading checkpoint shards:   0%|          | 0/4 [00:00<?, ?it/s]"
      ]
     },
     "metadata": {},
     "output_type": "display_data"
    },
    {
     "name": "stdout",
     "output_type": "stream",
     "text": [
      "../results/20240722/traj_cot_bit_x0_squad_ep150/adapter_model.safetensors\n",
      "remove=20\n",
      "Loading weights with remove:  layers.20.\n",
      "Removing base_model.model.model.layers.20.self_attn.k_proj.lora_A.weight\n",
      "Removing base_model.model.model.layers.20.self_attn.k_proj.lora_B.weight\n",
      "Removing base_model.model.model.layers.20.self_attn.o_proj.lora_A.weight\n",
      "Removing base_model.model.model.layers.20.self_attn.o_proj.lora_B.weight\n",
      "Removing base_model.model.model.layers.20.self_attn.q_proj.lora_A.weight\n",
      "Removing base_model.model.model.layers.20.self_attn.q_proj.lora_B.weight\n",
      "Removing base_model.model.model.layers.20.self_attn.v_proj.lora_A.weight\n",
      "Removing base_model.model.model.layers.20.self_attn.v_proj.lora_B.weight\n",
      "[94, 90, 90, 91, 93, 95, 92, 92, 92, 94, 94, 95, 94, 93, 96, 91, 92, 94, 92, 92, 0, 0, 0, 0, 0, 0, 0, 0, 0, 0, 0, 0]\n",
      "[0, 0, 0, 0, 0, 0, 0, 0, 0, 0, 0, 0, 0, 0, 0, 0, 0, 0, 0, 0, 0, 0, 0, 0, 0, 0, 0, 0, 0, 0, 0, 0]\n"
     ]
    },
    {
     "name": "stderr",
     "output_type": "stream",
     "text": [
      "100%|██████████| 7/7 [00:52<00:00,  7.49s/it]"
     ]
    },
    {
     "name": "stdout",
     "output_type": "stream",
     "text": [
      "21\n"
     ]
    },
    {
     "name": "stderr",
     "output_type": "stream",
     "text": [
      "\n"
     ]
    },
    {
     "data": {
      "application/vnd.jupyter.widget-view+json": {
       "model_id": "818dbde93f444c0fb2be335320e0faae",
       "version_major": 2,
       "version_minor": 0
      },
      "text/plain": [
       "Loading checkpoint shards:   0%|          | 0/4 [00:00<?, ?it/s]"
      ]
     },
     "metadata": {},
     "output_type": "display_data"
    },
    {
     "name": "stdout",
     "output_type": "stream",
     "text": [
      "../results/20240722/traj_cot_bit_x0_squad_ep150/adapter_model.safetensors\n",
      "remove=21\n",
      "Loading weights with remove:  layers.21.\n",
      "Removing base_model.model.model.layers.21.self_attn.k_proj.lora_A.weight\n",
      "Removing base_model.model.model.layers.21.self_attn.k_proj.lora_B.weight\n",
      "Removing base_model.model.model.layers.21.self_attn.o_proj.lora_A.weight\n",
      "Removing base_model.model.model.layers.21.self_attn.o_proj.lora_B.weight\n",
      "Removing base_model.model.model.layers.21.self_attn.q_proj.lora_A.weight\n",
      "Removing base_model.model.model.layers.21.self_attn.q_proj.lora_B.weight\n",
      "Removing base_model.model.model.layers.21.self_attn.v_proj.lora_A.weight\n",
      "Removing base_model.model.model.layers.21.self_attn.v_proj.lora_B.weight\n",
      "[94, 90, 90, 91, 93, 95, 92, 92, 92, 94, 94, 95, 94, 93, 96, 91, 92, 94, 92, 92, 91, 0, 0, 0, 0, 0, 0, 0, 0, 0, 0, 0]\n",
      "[0, 0, 0, 0, 0, 0, 0, 0, 0, 0, 0, 0, 0, 0, 0, 0, 0, 0, 0, 0, 0, 0, 0, 0, 0, 0, 0, 0, 0, 0, 0, 0]\n"
     ]
    },
    {
     "name": "stderr",
     "output_type": "stream",
     "text": [
      "100%|██████████| 7/7 [00:51<00:00,  7.31s/it]"
     ]
    },
    {
     "name": "stdout",
     "output_type": "stream",
     "text": [
      "22\n"
     ]
    },
    {
     "name": "stderr",
     "output_type": "stream",
     "text": [
      "\n"
     ]
    },
    {
     "data": {
      "application/vnd.jupyter.widget-view+json": {
       "model_id": "46f5d9526c08499da3d397a3aad673c0",
       "version_major": 2,
       "version_minor": 0
      },
      "text/plain": [
       "Loading checkpoint shards:   0%|          | 0/4 [00:00<?, ?it/s]"
      ]
     },
     "metadata": {},
     "output_type": "display_data"
    },
    {
     "name": "stdout",
     "output_type": "stream",
     "text": [
      "../results/20240722/traj_cot_bit_x0_squad_ep150/adapter_model.safetensors\n",
      "remove=22\n",
      "Loading weights with remove:  layers.22.\n",
      "Removing base_model.model.model.layers.22.self_attn.k_proj.lora_A.weight\n",
      "Removing base_model.model.model.layers.22.self_attn.k_proj.lora_B.weight\n",
      "Removing base_model.model.model.layers.22.self_attn.o_proj.lora_A.weight\n",
      "Removing base_model.model.model.layers.22.self_attn.o_proj.lora_B.weight\n",
      "Removing base_model.model.model.layers.22.self_attn.q_proj.lora_A.weight\n",
      "Removing base_model.model.model.layers.22.self_attn.q_proj.lora_B.weight\n",
      "Removing base_model.model.model.layers.22.self_attn.v_proj.lora_A.weight\n",
      "Removing base_model.model.model.layers.22.self_attn.v_proj.lora_B.weight\n",
      "[94, 90, 90, 91, 93, 95, 92, 92, 92, 94, 94, 95, 94, 93, 96, 91, 92, 94, 92, 92, 91, 93, 0, 0, 0, 0, 0, 0, 0, 0, 0, 0]\n",
      "[0, 0, 0, 0, 0, 0, 0, 0, 0, 0, 0, 0, 0, 0, 0, 0, 0, 0, 0, 0, 0, 0, 0, 0, 0, 0, 0, 0, 0, 0, 0, 0]\n"
     ]
    },
    {
     "name": "stderr",
     "output_type": "stream",
     "text": [
      "100%|██████████| 7/7 [00:53<00:00,  7.59s/it]"
     ]
    },
    {
     "name": "stdout",
     "output_type": "stream",
     "text": [
      "23\n"
     ]
    },
    {
     "name": "stderr",
     "output_type": "stream",
     "text": [
      "\n"
     ]
    },
    {
     "data": {
      "application/vnd.jupyter.widget-view+json": {
       "model_id": "3d84ac245725447d92d43412af5582cb",
       "version_major": 2,
       "version_minor": 0
      },
      "text/plain": [
       "Loading checkpoint shards:   0%|          | 0/4 [00:00<?, ?it/s]"
      ]
     },
     "metadata": {},
     "output_type": "display_data"
    },
    {
     "name": "stdout",
     "output_type": "stream",
     "text": [
      "../results/20240722/traj_cot_bit_x0_squad_ep150/adapter_model.safetensors\n",
      "remove=23\n",
      "Loading weights with remove:  layers.23.\n",
      "Removing base_model.model.model.layers.23.self_attn.k_proj.lora_A.weight\n",
      "Removing base_model.model.model.layers.23.self_attn.k_proj.lora_B.weight\n",
      "Removing base_model.model.model.layers.23.self_attn.o_proj.lora_A.weight\n",
      "Removing base_model.model.model.layers.23.self_attn.o_proj.lora_B.weight\n",
      "Removing base_model.model.model.layers.23.self_attn.q_proj.lora_A.weight\n",
      "Removing base_model.model.model.layers.23.self_attn.q_proj.lora_B.weight\n",
      "Removing base_model.model.model.layers.23.self_attn.v_proj.lora_A.weight\n",
      "Removing base_model.model.model.layers.23.self_attn.v_proj.lora_B.weight\n",
      "[94, 90, 90, 91, 93, 95, 92, 92, 92, 94, 94, 95, 94, 93, 96, 91, 92, 94, 92, 92, 91, 93, 93, 0, 0, 0, 0, 0, 0, 0, 0, 0]\n",
      "[0, 0, 0, 0, 0, 0, 0, 0, 0, 0, 0, 0, 0, 0, 0, 0, 0, 0, 0, 0, 0, 0, 0, 0, 0, 0, 0, 0, 0, 0, 0, 0]\n"
     ]
    },
    {
     "name": "stderr",
     "output_type": "stream",
     "text": [
      "100%|██████████| 7/7 [00:48<00:00,  6.99s/it]"
     ]
    },
    {
     "name": "stdout",
     "output_type": "stream",
     "text": [
      "24\n"
     ]
    },
    {
     "name": "stderr",
     "output_type": "stream",
     "text": [
      "\n"
     ]
    },
    {
     "data": {
      "application/vnd.jupyter.widget-view+json": {
       "model_id": "a78fd6ab94b444ada200e13e04c93fce",
       "version_major": 2,
       "version_minor": 0
      },
      "text/plain": [
       "Loading checkpoint shards:   0%|          | 0/4 [00:00<?, ?it/s]"
      ]
     },
     "metadata": {},
     "output_type": "display_data"
    },
    {
     "name": "stdout",
     "output_type": "stream",
     "text": [
      "../results/20240722/traj_cot_bit_x0_squad_ep150/adapter_model.safetensors\n",
      "remove=24\n",
      "Loading weights with remove:  layers.24.\n",
      "Removing base_model.model.model.layers.24.self_attn.k_proj.lora_A.weight\n",
      "Removing base_model.model.model.layers.24.self_attn.k_proj.lora_B.weight\n",
      "Removing base_model.model.model.layers.24.self_attn.o_proj.lora_A.weight\n",
      "Removing base_model.model.model.layers.24.self_attn.o_proj.lora_B.weight\n",
      "Removing base_model.model.model.layers.24.self_attn.q_proj.lora_A.weight\n",
      "Removing base_model.model.model.layers.24.self_attn.q_proj.lora_B.weight\n",
      "Removing base_model.model.model.layers.24.self_attn.v_proj.lora_A.weight\n",
      "Removing base_model.model.model.layers.24.self_attn.v_proj.lora_B.weight\n",
      "[94, 90, 90, 91, 93, 95, 92, 92, 92, 94, 94, 95, 94, 93, 96, 91, 92, 94, 92, 92, 91, 93, 93, 90, 0, 0, 0, 0, 0, 0, 0, 0]\n",
      "[0, 0, 0, 0, 0, 0, 0, 0, 0, 0, 0, 0, 0, 0, 0, 0, 0, 0, 0, 0, 0, 0, 0, 0, 0, 0, 0, 0, 0, 0, 0, 0]\n"
     ]
    },
    {
     "name": "stderr",
     "output_type": "stream",
     "text": [
      "100%|██████████| 7/7 [00:54<00:00,  7.75s/it]"
     ]
    },
    {
     "name": "stdout",
     "output_type": "stream",
     "text": [
      "25\n"
     ]
    },
    {
     "name": "stderr",
     "output_type": "stream",
     "text": [
      "\n"
     ]
    },
    {
     "data": {
      "application/vnd.jupyter.widget-view+json": {
       "model_id": "a565353a32ba45aaafa2eb51789ff32d",
       "version_major": 2,
       "version_minor": 0
      },
      "text/plain": [
       "Loading checkpoint shards:   0%|          | 0/4 [00:00<?, ?it/s]"
      ]
     },
     "metadata": {},
     "output_type": "display_data"
    },
    {
     "name": "stdout",
     "output_type": "stream",
     "text": [
      "../results/20240722/traj_cot_bit_x0_squad_ep150/adapter_model.safetensors\n",
      "remove=25\n",
      "Loading weights with remove:  layers.25.\n",
      "Removing base_model.model.model.layers.25.self_attn.k_proj.lora_A.weight\n",
      "Removing base_model.model.model.layers.25.self_attn.k_proj.lora_B.weight\n",
      "Removing base_model.model.model.layers.25.self_attn.o_proj.lora_A.weight\n",
      "Removing base_model.model.model.layers.25.self_attn.o_proj.lora_B.weight\n",
      "Removing base_model.model.model.layers.25.self_attn.q_proj.lora_A.weight\n",
      "Removing base_model.model.model.layers.25.self_attn.q_proj.lora_B.weight\n",
      "Removing base_model.model.model.layers.25.self_attn.v_proj.lora_A.weight\n",
      "Removing base_model.model.model.layers.25.self_attn.v_proj.lora_B.weight\n",
      "[94, 90, 90, 91, 93, 95, 92, 92, 92, 94, 94, 95, 94, 93, 96, 91, 92, 94, 92, 92, 91, 93, 93, 90, 95, 0, 0, 0, 0, 0, 0, 0]\n",
      "[0, 0, 0, 0, 0, 0, 0, 0, 0, 0, 0, 0, 0, 0, 0, 0, 0, 0, 0, 0, 0, 0, 0, 0, 0, 0, 0, 0, 0, 0, 0, 0]\n"
     ]
    },
    {
     "name": "stderr",
     "output_type": "stream",
     "text": [
      "100%|██████████| 7/7 [00:51<00:00,  7.34s/it]"
     ]
    },
    {
     "name": "stdout",
     "output_type": "stream",
     "text": [
      "26\n"
     ]
    },
    {
     "name": "stderr",
     "output_type": "stream",
     "text": [
      "\n"
     ]
    },
    {
     "data": {
      "application/vnd.jupyter.widget-view+json": {
       "model_id": "2aafb5fe649f4bd38ec3a06f7caa6d47",
       "version_major": 2,
       "version_minor": 0
      },
      "text/plain": [
       "Loading checkpoint shards:   0%|          | 0/4 [00:00<?, ?it/s]"
      ]
     },
     "metadata": {},
     "output_type": "display_data"
    },
    {
     "name": "stdout",
     "output_type": "stream",
     "text": [
      "../results/20240722/traj_cot_bit_x0_squad_ep150/adapter_model.safetensors\n",
      "remove=26\n",
      "Loading weights with remove:  layers.26.\n",
      "Removing base_model.model.model.layers.26.self_attn.k_proj.lora_A.weight\n",
      "Removing base_model.model.model.layers.26.self_attn.k_proj.lora_B.weight\n",
      "Removing base_model.model.model.layers.26.self_attn.o_proj.lora_A.weight\n",
      "Removing base_model.model.model.layers.26.self_attn.o_proj.lora_B.weight\n",
      "Removing base_model.model.model.layers.26.self_attn.q_proj.lora_A.weight\n",
      "Removing base_model.model.model.layers.26.self_attn.q_proj.lora_B.weight\n",
      "Removing base_model.model.model.layers.26.self_attn.v_proj.lora_A.weight\n",
      "Removing base_model.model.model.layers.26.self_attn.v_proj.lora_B.weight\n",
      "[94, 90, 90, 91, 93, 95, 92, 92, 92, 94, 94, 95, 94, 93, 96, 91, 92, 94, 92, 92, 91, 93, 93, 90, 95, 93, 0, 0, 0, 0, 0, 0]\n",
      "[0, 0, 0, 0, 0, 0, 0, 0, 0, 0, 0, 0, 0, 0, 0, 0, 0, 0, 0, 0, 0, 0, 0, 0, 0, 0, 0, 0, 0, 0, 0, 0]\n"
     ]
    },
    {
     "name": "stderr",
     "output_type": "stream",
     "text": [
      "100%|██████████| 7/7 [00:51<00:00,  7.35s/it]"
     ]
    },
    {
     "name": "stdout",
     "output_type": "stream",
     "text": [
      "27\n"
     ]
    },
    {
     "name": "stderr",
     "output_type": "stream",
     "text": [
      "\n"
     ]
    },
    {
     "data": {
      "application/vnd.jupyter.widget-view+json": {
       "model_id": "d45585ef3df644df8d13e6c22bc2d6ea",
       "version_major": 2,
       "version_minor": 0
      },
      "text/plain": [
       "Loading checkpoint shards:   0%|          | 0/4 [00:00<?, ?it/s]"
      ]
     },
     "metadata": {},
     "output_type": "display_data"
    },
    {
     "name": "stdout",
     "output_type": "stream",
     "text": [
      "../results/20240722/traj_cot_bit_x0_squad_ep150/adapter_model.safetensors\n",
      "remove=27\n",
      "Loading weights with remove:  layers.27.\n",
      "Removing base_model.model.model.layers.27.self_attn.k_proj.lora_A.weight\n",
      "Removing base_model.model.model.layers.27.self_attn.k_proj.lora_B.weight\n",
      "Removing base_model.model.model.layers.27.self_attn.o_proj.lora_A.weight\n",
      "Removing base_model.model.model.layers.27.self_attn.o_proj.lora_B.weight\n",
      "Removing base_model.model.model.layers.27.self_attn.q_proj.lora_A.weight\n",
      "Removing base_model.model.model.layers.27.self_attn.q_proj.lora_B.weight\n",
      "Removing base_model.model.model.layers.27.self_attn.v_proj.lora_A.weight\n",
      "Removing base_model.model.model.layers.27.self_attn.v_proj.lora_B.weight\n",
      "[94, 90, 90, 91, 93, 95, 92, 92, 92, 94, 94, 95, 94, 93, 96, 91, 92, 94, 92, 92, 91, 93, 93, 90, 95, 93, 96, 0, 0, 0, 0, 0]\n",
      "[0, 0, 0, 0, 0, 0, 0, 0, 0, 0, 0, 0, 0, 0, 0, 0, 0, 0, 0, 0, 0, 0, 0, 0, 0, 0, 0, 0, 0, 0, 0, 0]\n"
     ]
    },
    {
     "name": "stderr",
     "output_type": "stream",
     "text": [
      "100%|██████████| 7/7 [00:53<00:00,  7.70s/it]"
     ]
    },
    {
     "name": "stdout",
     "output_type": "stream",
     "text": [
      "28\n"
     ]
    },
    {
     "name": "stderr",
     "output_type": "stream",
     "text": [
      "\n"
     ]
    },
    {
     "data": {
      "application/vnd.jupyter.widget-view+json": {
       "model_id": "4014f6037a1246c9ab6c0d2997fb63d1",
       "version_major": 2,
       "version_minor": 0
      },
      "text/plain": [
       "Loading checkpoint shards:   0%|          | 0/4 [00:00<?, ?it/s]"
      ]
     },
     "metadata": {},
     "output_type": "display_data"
    },
    {
     "name": "stdout",
     "output_type": "stream",
     "text": [
      "../results/20240722/traj_cot_bit_x0_squad_ep150/adapter_model.safetensors\n",
      "remove=28\n",
      "Loading weights with remove:  layers.28.\n",
      "Removing base_model.model.model.layers.28.self_attn.k_proj.lora_A.weight\n",
      "Removing base_model.model.model.layers.28.self_attn.k_proj.lora_B.weight\n",
      "Removing base_model.model.model.layers.28.self_attn.o_proj.lora_A.weight\n",
      "Removing base_model.model.model.layers.28.self_attn.o_proj.lora_B.weight\n",
      "Removing base_model.model.model.layers.28.self_attn.q_proj.lora_A.weight\n",
      "Removing base_model.model.model.layers.28.self_attn.q_proj.lora_B.weight\n",
      "Removing base_model.model.model.layers.28.self_attn.v_proj.lora_A.weight\n",
      "Removing base_model.model.model.layers.28.self_attn.v_proj.lora_B.weight\n",
      "[94, 90, 90, 91, 93, 95, 92, 92, 92, 94, 94, 95, 94, 93, 96, 91, 92, 94, 92, 92, 91, 93, 93, 90, 95, 93, 96, 92, 0, 0, 0, 0]\n",
      "[0, 0, 0, 0, 0, 0, 0, 0, 0, 0, 0, 0, 0, 0, 0, 0, 0, 0, 0, 0, 0, 0, 0, 0, 0, 0, 0, 0, 0, 0, 0, 0]\n"
     ]
    },
    {
     "name": "stderr",
     "output_type": "stream",
     "text": [
      "100%|██████████| 7/7 [00:50<00:00,  7.22s/it]"
     ]
    },
    {
     "name": "stdout",
     "output_type": "stream",
     "text": [
      "29\n"
     ]
    },
    {
     "name": "stderr",
     "output_type": "stream",
     "text": [
      "\n"
     ]
    },
    {
     "data": {
      "application/vnd.jupyter.widget-view+json": {
       "model_id": "ddda1ca50d204072870638d1424c1903",
       "version_major": 2,
       "version_minor": 0
      },
      "text/plain": [
       "Loading checkpoint shards:   0%|          | 0/4 [00:00<?, ?it/s]"
      ]
     },
     "metadata": {},
     "output_type": "display_data"
    },
    {
     "name": "stdout",
     "output_type": "stream",
     "text": [
      "../results/20240722/traj_cot_bit_x0_squad_ep150/adapter_model.safetensors\n",
      "remove=29\n",
      "Loading weights with remove:  layers.29.\n",
      "Removing base_model.model.model.layers.29.self_attn.k_proj.lora_A.weight\n",
      "Removing base_model.model.model.layers.29.self_attn.k_proj.lora_B.weight\n",
      "Removing base_model.model.model.layers.29.self_attn.o_proj.lora_A.weight\n",
      "Removing base_model.model.model.layers.29.self_attn.o_proj.lora_B.weight\n",
      "Removing base_model.model.model.layers.29.self_attn.q_proj.lora_A.weight\n",
      "Removing base_model.model.model.layers.29.self_attn.q_proj.lora_B.weight\n",
      "Removing base_model.model.model.layers.29.self_attn.v_proj.lora_A.weight\n",
      "Removing base_model.model.model.layers.29.self_attn.v_proj.lora_B.weight\n",
      "[94, 90, 90, 91, 93, 95, 92, 92, 92, 94, 94, 95, 94, 93, 96, 91, 92, 94, 92, 92, 91, 93, 93, 90, 95, 93, 96, 92, 94, 0, 0, 0]\n",
      "[0, 0, 0, 0, 0, 0, 0, 0, 0, 0, 0, 0, 0, 0, 0, 0, 0, 0, 0, 0, 0, 0, 0, 0, 0, 0, 0, 0, 0, 0, 0, 0]\n"
     ]
    },
    {
     "name": "stderr",
     "output_type": "stream",
     "text": [
      "100%|██████████| 7/7 [00:51<00:00,  7.29s/it]"
     ]
    },
    {
     "name": "stdout",
     "output_type": "stream",
     "text": [
      "30\n"
     ]
    },
    {
     "name": "stderr",
     "output_type": "stream",
     "text": [
      "\n"
     ]
    },
    {
     "data": {
      "application/vnd.jupyter.widget-view+json": {
       "model_id": "370d5efebba74aff942ba41611f912d7",
       "version_major": 2,
       "version_minor": 0
      },
      "text/plain": [
       "Loading checkpoint shards:   0%|          | 0/4 [00:00<?, ?it/s]"
      ]
     },
     "metadata": {},
     "output_type": "display_data"
    },
    {
     "name": "stdout",
     "output_type": "stream",
     "text": [
      "../results/20240722/traj_cot_bit_x0_squad_ep150/adapter_model.safetensors\n",
      "remove=30\n",
      "Loading weights with remove:  layers.30.\n",
      "Removing base_model.model.model.layers.30.self_attn.k_proj.lora_A.weight\n",
      "Removing base_model.model.model.layers.30.self_attn.k_proj.lora_B.weight\n",
      "Removing base_model.model.model.layers.30.self_attn.o_proj.lora_A.weight\n",
      "Removing base_model.model.model.layers.30.self_attn.o_proj.lora_B.weight\n",
      "Removing base_model.model.model.layers.30.self_attn.q_proj.lora_A.weight\n",
      "Removing base_model.model.model.layers.30.self_attn.q_proj.lora_B.weight\n",
      "Removing base_model.model.model.layers.30.self_attn.v_proj.lora_A.weight\n",
      "Removing base_model.model.model.layers.30.self_attn.v_proj.lora_B.weight\n",
      "[94, 90, 90, 91, 93, 95, 92, 92, 92, 94, 94, 95, 94, 93, 96, 91, 92, 94, 92, 92, 91, 93, 93, 90, 95, 93, 96, 92, 94, 94, 0, 0]\n",
      "[0, 0, 0, 0, 0, 0, 0, 0, 0, 0, 0, 0, 0, 0, 0, 0, 0, 0, 0, 0, 0, 0, 0, 0, 0, 0, 0, 0, 0, 0, 0, 0]\n"
     ]
    },
    {
     "name": "stderr",
     "output_type": "stream",
     "text": [
      "100%|██████████| 7/7 [00:52<00:00,  7.51s/it]"
     ]
    },
    {
     "name": "stdout",
     "output_type": "stream",
     "text": [
      "31\n"
     ]
    },
    {
     "name": "stderr",
     "output_type": "stream",
     "text": [
      "\n"
     ]
    },
    {
     "data": {
      "application/vnd.jupyter.widget-view+json": {
       "model_id": "60d7753a469b4a2b82204fb19a0acc37",
       "version_major": 2,
       "version_minor": 0
      },
      "text/plain": [
       "Loading checkpoint shards:   0%|          | 0/4 [00:00<?, ?it/s]"
      ]
     },
     "metadata": {},
     "output_type": "display_data"
    },
    {
     "name": "stdout",
     "output_type": "stream",
     "text": [
      "../results/20240722/traj_cot_bit_x0_squad_ep150/adapter_model.safetensors\n",
      "remove=31\n",
      "Loading weights with remove:  layers.31.\n",
      "Removing base_model.model.model.layers.31.self_attn.k_proj.lora_A.weight\n",
      "Removing base_model.model.model.layers.31.self_attn.k_proj.lora_B.weight\n",
      "Removing base_model.model.model.layers.31.self_attn.o_proj.lora_A.weight\n",
      "Removing base_model.model.model.layers.31.self_attn.o_proj.lora_B.weight\n",
      "Removing base_model.model.model.layers.31.self_attn.q_proj.lora_A.weight\n",
      "Removing base_model.model.model.layers.31.self_attn.q_proj.lora_B.weight\n",
      "Removing base_model.model.model.layers.31.self_attn.v_proj.lora_A.weight\n",
      "Removing base_model.model.model.layers.31.self_attn.v_proj.lora_B.weight\n",
      "[94, 90, 90, 91, 93, 95, 92, 92, 92, 94, 94, 95, 94, 93, 96, 91, 92, 94, 92, 92, 91, 93, 93, 90, 95, 93, 96, 92, 94, 94, 93, 0]\n",
      "[0, 0, 0, 0, 0, 0, 0, 0, 0, 0, 0, 0, 0, 0, 0, 0, 0, 0, 0, 0, 0, 0, 0, 0, 0, 0, 0, 0, 0, 0, 0, 0]\n"
     ]
    },
    {
     "name": "stderr",
     "output_type": "stream",
     "text": [
      "100%|██████████| 7/7 [00:52<00:00,  7.49s/it]\n"
     ]
    }
   ],
   "source": [
    "from tqdm import tqdm\n",
    "import torch\n",
    "\n",
    "\n",
    "full_input_text = lambda system, user: f\"<|begin_of_text|><|start_header_id|>system<|end_header_id|>\\n\\n{system}<|eot_id|>\\n<|start_header_id|>user<|end_header_id|>{user}<|eot_id|>\\n<|start_header_id|>assistant<|end_header_id|>\\n\\n\"\n",
    "\n",
    "batch_size = 32\n",
    "\n",
    "num_correct_baked_model_no_system = [0] * 32\n",
    "\n",
    "peft_model.eval()\n",
    "\n",
    "\n",
    "for keep in range(0, 32):\n",
    "    print(keep)\n",
    "    base_model_ = AutoModelForCausalLM.from_pretrained(model_name, torch_dtype=torch.bfloat16, device_map=\"cuda:0\")\n",
    "    peft_model_path = f\"../results/20240722/traj_{name}_x0_squad_ep150\"\n",
    "    config = PeftConfig.from_pretrained(peft_model_path)\n",
    "    peft_model = PeftModel.from_pretrained(base_model_, peft_model_path, loading_weight_setting=f\"remove={keep}\")\n",
    "\n",
    "    print(num_correct_baked_model_no_system)\n",
    "\n",
    "    with torch.no_grad():\n",
    "        for i in tqdm(range(0, len(questions), batch_size)):\n",
    "            batch_questions = questions[i:i+batch_size]\n",
    "            batch_answers = answers[i:i+batch_size]\n",
    "\n",
    "            batch_input_text_no_system = [full_input_text(\"\", question) for question in batch_questions]\n",
    "            full_input_ids_no_system = tokenizer(batch_input_text_no_system, return_tensors=\"pt\").to(peft_model.device)\n",
    "            \n",
    "            # baked model no system prompt\n",
    "            baked_model_no_system_output = peft_model.generate(\n",
    "                **full_input_ids_no_system,\n",
    "                max_length=peft_model.config.max_position_embeddings,\n",
    "                num_return_sequences=1, \n",
    "                temperature=None,\n",
    "                top_p=None,\n",
    "                do_sample=False, \n",
    "                pad_token_id=tokenizer.eos_token_id,\n",
    "            )\n",
    "\n",
    "\n",
    "            baked_model_no_system_strs = tokenizer.batch_decode(baked_model_no_system_output, skip_special_tokens=True)\n",
    "\n",
    "            for (answer, baked_model_no_system_str) in zip(batch_answers, baked_model_no_system_strs):\n",
    "\n",
    "                if str(answer) in baked_model_no_system_str:\n",
    "                    num_correct_baked_model_no_system[keep] += 1"
   ]
  },
  {
   "cell_type": "code",
   "execution_count": 6,
   "metadata": {},
   "outputs": [
    {
     "data": {
      "image/png": "[encoded data removed]",
      "text/plain": [
       "<Figure size 640x480 with 1 Axes>"
      ]
     },
     "metadata": {},
     "output_type": "display_data"
    },
    {
     "ename": "",
     "evalue": "",
     "output_type": "error",
     "traceback": [
      "\u001b[1;31mThe Kernel crashed while executing code in the current cell or a previous cell. \n",
      "\u001b[1;31mPlease review the code in the cell(s) to identify a possible cause of the failure. \n",
      "\u001b[1;31mClick <a href='https://aka.ms/vscodeJupyterKernelCrash'>here</a> for more info. \n",
      "\u001b[1;31mView Jupyter <a href='command:jupyter.viewOutput'>log</a> for further details."
     ]
    }
   ],
   "source": [
    "from matplotlib import pyplot as plt\n",
    "\n",
    "plt.xlabel(\"Keep X Layer\")\n",
    "plt.ylabel(\"Percentage Correct\")\n",
    "plt.title(\"Performance on [10, 100] x [10, 100] Removing Single Layer\")\n",
    "\n",
    "y = 72.9\n",
    "plt.axhline(y=y, color='r', linestyle='--', label=\"Original Model\")\n",
    "y = 97.3\n",
    "plt.axhline(y=y, color='g', linestyle='--', label=\"Baked Model\")\n",
    "\n",
    "plt.plot(num_correct_baked_model_no_system, label=\"Baked Model Layers Removed\")\n",
    "plt.legend()\n",
    "plt.show()"
   ]
  },
  {
   "cell_type": "code",
   "execution_count": 25,
   "metadata": {},
   "outputs": [
    {
     "data": {
      "text/plain": [
       "[69,\n",
       " 67,\n",
       " 71,\n",
       " 70,\n",
       " 68,\n",
       " 69,\n",
       " 69,\n",
       " 70,\n",
       " 70,\n",
       " 69,\n",
       " 69,\n",
       " 70,\n",
       " 69,\n",
       " 70,\n",
       " 72,\n",
       " 72,\n",
       " 71,\n",
       " 72,\n",
       " 70,\n",
       " 70,\n",
       " 70,\n",
       " 72,\n",
       " 72,\n",
       " 70,\n",
       " 72,\n",
       " 71,\n",
       " 72,\n",
       " 72,\n",
       " 71,\n",
       " 71,\n",
       " 71,\n",
       " 70]"
      ]
     },
     "execution_count": 25,
     "metadata": {},
     "output_type": "execute_result"
    }
   ],
   "source": [
    "num_correct_baked_model_no_system"
   ]
  },
  {
   "cell_type": "code",
   "execution_count": 11,
   "metadata": {},
   "outputs": [
    {
     "data": {
      "text/plain": [
       "[95,\n",
       " 96,\n",
       " 96,\n",
       " 96,\n",
       " 92,\n",
       " 93,\n",
       " 96,\n",
       " 96,\n",
       " 98,\n",
       " 96,\n",
       " 94,\n",
       " 94,\n",
       " 97,\n",
       " 91,\n",
       " 95,\n",
       " 97,\n",
       " 94,\n",
       " 95,\n",
       " 94,\n",
       " 96,\n",
       " 97,\n",
       " 93,\n",
       " 97,\n",
       " 95,\n",
       " 96,\n",
       " 95,\n",
       " 96,\n",
       " 94,\n",
       " 96,\n",
       " 95,\n",
       " 98,\n",
       " 97]"
      ]
     },
     "execution_count": 11,
     "metadata": {},
     "output_type": "execute_result"
    }
   ],
   "source": [
    "num_correct_baked_model_with_system"
   ]
  },
  {
   "cell_type": "code",
   "execution_count": 6,
   "metadata": {},
   "outputs": [
    {
     "name": "stdout",
     "output_type": "stream",
     "text": [
      "You are an advanced language model designed to assist with complex problem-solving and provide clear, consistent responses. When addressing a query, follow these guidelines:\n",
      "\t1.Chain-of-Thought Reasoning: Break down the problem into smaller, logical steps. Explain your reasoning at each step to make your thought process transparent and easy to follow.\n",
      "\t2.Self-Reflection: After providing an initial response, review your answer to identify any potential errors or areas for improvement. Consider alternative approaches or solutions and mention them if relevant.\n",
      "\t3.Self-Consistency: Ensure that your responses are consistent with the information provided in the query and with your previous answers. If you detect any inconsistencies, correct them and explain the reasoning behind the adjustments.\n",
      "By adhering to these guidelines, you will provide thorough, accurate, and reliable assistance.\n",
      "Original model no system prompt accuracy: 0.729\n",
      "Original model with system prompt accuracy: 0.943\n",
      "Baked model no system prompt accuracy: 0.952\n",
      "Baked model with system prompt accuracy: 0.957\n"
     ]
    }
   ],
   "source": [
    "print(system)\n",
    "print(\"Original model no system prompt accuracy:\", num_correct_original_model_no_system / len(questions))\n",
    "print(\"Original model with system prompt accuracy:\", num_correct_original_model_with_system / len(questions))\n",
    "print(\"Baked model no system prompt accuracy:\", num_correct_baked_model_no_system / len(questions))\n",
    "print(\"Baked model with system prompt accuracy:\", num_correct_baked_model_with_system / len(questions))"
   ]
  }
 ],
 "metadata": {
  "kernelspec": {
   "display_name": "env",
   "language": "python",
   "name": "python3"
  },
  "language_info": {
   "codemirror_mode": {
    "name": "ipython",
    "version": 3
   },
   "file_extension": ".py",
   "mimetype": "text/x-python",
   "name": "python",
   "nbconvert_exporter": "python",
   "pygments_lexer": "ipython3",
   "version": "3.11.9"
  }
 },
 "nbformat": 4,
 "nbformat_minor": 2
}
