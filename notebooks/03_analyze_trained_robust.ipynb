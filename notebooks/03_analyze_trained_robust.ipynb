{
 "cells": [
  {
   "cell_type": "markdown",
   "metadata": {},
   "source": [
    "A script to load two models and perform various modes of experimental analysis on them, ensuring this is done ROBUSTLY! In particular, we are interested in:\n",
    "- Generation from unprompted, trained model.\n",
    "- Generation from prompted, untrained model.\n",
    "- Calculation of logits given a question and answer for:\n",
    "    - unprompted, untrained model.\n",
    "    - prompted, trained model.\n",
    "    - unprompted, trained model.\n",
    "- Create plots for deviance, correlation, and other possibly interesting measurements."
   ]
  },
  {
   "cell_type": "code",
   "execution_count": 14,
   "metadata": {},
   "outputs": [],
   "source": [
    "import torch\n",
    "import torch.nn as nn\n",
    "import sys \n",
    "import os\n",
    "from tqdm import tqdm\n",
    "sys.path.append('../')\n",
    "from generate_data import format_prompt"
   ]
  },
  {
   "cell_type": "code",
   "execution_count": 13,
   "metadata": {},
   "outputs": [
    {
     "name": "stdout",
     "output_type": "stream",
     "text": [
      "<|start_header_id|>system<|end_header_id|>\n",
      "\n",
      "Hi<|eot_id|>\n",
      "<|start_header_id|>user<|end_header_id|><|eot_id|>\n",
      "<|start_header_id|>assistant<|end_header_id|>\n",
      "\n",
      "\n"
     ]
    }
   ],
   "source": [
    "# Unbatched\n",
    "def calculate_logits(model, tokenizer, x0, question, answer, use_system=False):\n",
    "\n",
    "    prompt_q_str = format_prompt(x0, question, use_system=use_system)\n",
    "    prompt_q_ids = tokenizer.encode(prompt_q_str, return_tensors='pt').to(model.device)['input_ids']\n",
    "    \n",
    "    answer_ids = tokenizer.encode(answer, return_tensors='pt').to(model.device)['input_ids']\n",
    "\n",
    "    torch.cat([prompt_q_ids, answer_ids], dim=0)\n",
    "    \n",
    "    logits = model(prompt_q_ids, return_dict=True).logits\n",
    "    \n",
    "    return logits"
   ]
  },
  {
   "cell_type": "code",
   "execution_count": null,
   "metadata": {},
   "outputs": [],
   "source": []
  }
 ],
 "metadata": {
  "kernelspec": {
   "display_name": "venv",
   "language": "python",
   "name": "python3"
  },
  "language_info": {
   "codemirror_mode": {
    "name": "ipython",
    "version": 3
   },
   "file_extension": ".py",
   "mimetype": "text/x-python",
   "name": "python",
   "nbconvert_exporter": "python",
   "pygments_lexer": "ipython3",
   "version": "3.8.10"
  }
 },
 "nbformat": 4,
 "nbformat_minor": 2
}
