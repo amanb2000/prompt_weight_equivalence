{
 "cells": [
  {
   "cell_type": "markdown",
   "metadata": {},
   "source": [
    "A script to load two models and perform various modes of experimental analysis on them, ensuring this is done ROBUSTLY! In particular, we are interested in:\n",
    "- Generation from unprompted, trained model.\n",
    "- Generation from prompted, untrained model.\n",
    "- Calculation of logits given a question and answer for:\n",
    "    - unprompted, untrained model.\n",
    "    - prompted, trained model.\n",
    "    - unprompted, trained model.\n",
    "- Create plots for deviance, correlation, and other possibly interesting measurements."
   ]
  },
  {
   "cell_type": "code",
   "execution_count": 1,
   "metadata": {},
   "outputs": [
    {
     "name": "stderr",
     "output_type": "stream",
     "text": [
      "/home/user/prompt_weight_equivalence/venv/lib/python3.10/site-packages/tqdm/auto.py:21: TqdmWarning: IProgress not found. Please update jupyter and ipywidgets. See https://ipywidgets.readthedocs.io/en/stable/user_install.html\n",
      "  from .autonotebook import tqdm as notebook_tqdm\n"
     ]
    }
   ],
   "source": [
    "import torch\n",
    "import torch.nn as nn\n",
    "import torch.nn.functional as F\n",
    "\n",
    "import transformers\n",
    "from transformers import AutoTokenizer, AutoModelForCausalLM\n",
    "from datasets import load_dataset\n",
    "from peft import get_peft_config, PeftModel, PeftConfig, get_peft_model, LoraConfig, TaskType\n",
    "\n",
    "import sys \n",
    "import os\n",
    "from tqdm import tqdm\n",
    "sys.path.append('../')\n",
    "from generate_data import format_prompt\n",
    "from train_loop import pad_list_of_lists\n",
    "import gc\n",
    "\n",
    "from tqdm import tqdm "
   ]
  },
  {
   "cell_type": "code",
   "execution_count": 2,
   "metadata": {},
   "outputs": [],
   "source": [
    "def get_loss(prompted_llm, peft_model, tokenizer,\n",
    "             dataset, \n",
    "             batch_size, \n",
    "             log_path, \n",
    "             optimizer, \n",
    "             do_step = True):\n",
    "    \"\"\"\n",
    "    Gets the loss for {prompted_llm, peft_model} on the {prompted, unprompted} \n",
    "    inputs_ids from a dataset. \n",
    "\n",
    "    We retain the batch dimension so that we have the loss for every individual \n",
    "    entry in the dataset\n",
    "    \"\"\"\n",
    "    print(\"peft model device: \", peft_model.device)\n",
    "    print(\"prompted model device: \", prompted_llm.device)\n",
    "    unprompted_logits_peft_losses = []\n",
    "    unprompted_logits_base_losses = []\n",
    "    prompted_logits_peft_losses = []\n",
    "    prompted_logits_base_losses = []\n",
    "    texts = []\n",
    "\n",
    "    for i in tqdm(range(0, len(dataset['train']), batch_size)):\n",
    "        batch = dataset['train'][i:i+batch_size]\n",
    "        # grab the input_ids_nosys to run thru the PEFT model \n",
    "        input_ids_nosys_list_ = batch['input_ids_nosys'] # pad with tokenizer.pad_token_id\n",
    "        input_ids_list_ = batch['input_ids'] # pad with tokenizer.pad_token_id\n",
    "\n",
    "        input_ids_nosys_list = pad_list_of_lists(input_ids_nosys_list_, tokenizer.pad_token_id, verbose=False)\n",
    "        input_ids_list = pad_list_of_lists(input_ids_list_, tokenizer.pad_token_id, verbose=False)\n",
    "\n",
    "        # grab masks forr each input_ids\n",
    "        mask_nosys_list_ = batch['generated_text_mask_nosys'] # pad with 0\n",
    "        mask_list_ = batch['generated_text_mask'] # pad with 0\n",
    "\n",
    "        mask_nosys_list = pad_list_of_lists(mask_nosys_list_, 0, verbose=False)\n",
    "        mask_list = pad_list_of_lists(mask_list_, 0, verbose=False)\n",
    "\n",
    "\n",
    "        device = prompted_llm.device\n",
    "        input_ids = torch.tensor(input_ids_list).to(device)\n",
    "        input_ids_nosys = torch.tensor(input_ids_nosys_list).to(device)\n",
    "        mask = torch.tensor(mask_list).to(device) == 1\n",
    "        mask_nosys = torch.tensor(mask_nosys_list).to(device) == 1\n",
    "\n",
    "        assert input_ids.shape == mask.shape\n",
    "        assert input_ids_nosys.shape == mask_nosys.shape\n",
    "\n",
    "        assert (input_ids[mask] != input_ids_nosys[mask_nosys]).sum() == 0, \"Prompted and unprompted input_ids do not match within their respective masks for the generated text (must be identical)\"\n",
    "        \n",
    "\n",
    "\n",
    "        with torch.no_grad(): \n",
    "            unprompted_logits_peft = peft_model(input_ids_nosys).logits\n",
    "            unprompted_logits_base = prompted_llm(input_ids_nosys).logits\n",
    "\n",
    "            prompted_logits_peft = peft_model(input_ids).logits\n",
    "            prompted_logits_base = prompted_llm(input_ids).logits\n",
    "\n",
    "        # now we compute CE loss for each token in the generated text. \n",
    "        # for `unprompted_logits_peft`, we use `mask_nosys`  \n",
    "        # for `unprompted_logits_base`, we use `mask_nosys`\n",
    "        # for `prompted_logits_peft`, we use `mask`\n",
    "        # for `prompted_logits_base`, we use `mask`\n",
    "        # \n",
    "        # We must retain the batch dimension, such that we have one \n",
    "        # list element in unprompted_logits_peft_losses ... text for every \n",
    "        # dataset element\n",
    "        # Calculate losses\n",
    "        unprompted_peft_loss = F.cross_entropy(unprompted_logits_peft.transpose(1, 2), input_ids_nosys, reduction='none')\n",
    "        unprompted_base_loss = F.cross_entropy(unprompted_logits_base.transpose(1, 2), input_ids_nosys, reduction='none')\n",
    "        prompted_peft_loss = F.cross_entropy(prompted_logits_peft.transpose(1, 2), input_ids, reduction='none')\n",
    "        prompted_base_loss = F.cross_entropy(prompted_logits_base.transpose(1, 2), input_ids, reduction='none')\n",
    "\n",
    "        # Apply masks and sum losses for each example\n",
    "        unprompted_peft_loss = (unprompted_peft_loss * mask_nosys).sum(dim=1)\n",
    "        unprompted_base_loss = (unprompted_base_loss * mask_nosys).sum(dim=1)\n",
    "        prompted_peft_loss = (prompted_peft_loss * mask).sum(dim=1)\n",
    "        prompted_base_loss = (prompted_base_loss * mask).sum(dim=1)\n",
    "\n",
    "        # Append losses to respective lists\n",
    "        unprompted_logits_peft_losses.extend(unprompted_peft_loss.cpu().tolist())\n",
    "        unprompted_logits_base_losses.extend(unprompted_base_loss.cpu().tolist())\n",
    "        prompted_logits_peft_losses.extend(prompted_peft_loss.cpu().tolist())\n",
    "        prompted_logits_base_losses.extend(prompted_base_loss.cpu().tolist())\n",
    "\n",
    "        # Collect texts\n",
    "        texts.extend(batch['text'])\n",
    "    \n",
    "    return {\n",
    "        'unprompted_logits_peft_losses': unprompted_logits_peft_losses,\n",
    "        'unprompted_logits_base_losses': unprompted_logits_base_losses,\n",
    "        'prompted_logits_peft_losses': prompted_logits_peft_losses,\n",
    "        'prompted_logits_base_losses': prompted_logits_base_losses,\n",
    "        'texts': texts\n",
    "    }"
   ]
  },
  {
   "cell_type": "markdown",
   "metadata": {},
   "source": [
    "Now we're going to sketch out the pseudocode for generating the deviance plots"
   ]
  },
  {
   "cell_type": "code",
   "execution_count": 3,
   "metadata": {},
   "outputs": [
    {
     "name": "stderr",
     "output_type": "stream",
     "text": [
      "Special tokens have been added in the vocabulary, make sure the associated word embeddings are fine-tuned or trained.\n",
      "Loading checkpoint shards: 100%|██████████| 4/4 [00:04<00:00,  1.02s/it]\n",
      "Special tokens have been added in the vocabulary, make sure the associated word embeddings are fine-tuned or trained.\n"
     ]
    }
   ],
   "source": [
    "model_name = \"meta-llama/Meta-Llama-3-8B-Instruct\"\n",
    "\n",
    "tokenizer = AutoTokenizer.from_pretrained(model_name, padding_side=\"left\")\n",
    "tokenizer.pad_token = tokenizer.eos_token\n",
    "\n",
    "pipeline = transformers.pipeline(\n",
    "    \"text-generation\",\n",
    "    model=model_name,\n",
    "    tokenizer=tokenizer,\n",
    "    torch_dtype=torch.bfloat16,\n",
    "    trust_remote_code=True,\n",
    "    device_map=\"auto\",\n",
    ")\n",
    "model_untrained = pipeline.model\n",
    "\n",
    "tokenizer = AutoTokenizer.from_pretrained(model_name, padding_side=\"left\")\n",
    "tokenizer.pad_token = tokenizer.eos_token"
   ]
  },
  {
   "cell_type": "code",
   "execution_count": 4,
   "metadata": {},
   "outputs": [
    {
     "name": "stdout",
     "output_type": "stream",
     "text": [
      "Loading meta-llama/Meta-Llama-3-8B-Instruct...\n"
     ]
    },
    {
     "name": "stderr",
     "output_type": "stream",
     "text": [
      "Loading checkpoint shards: 100%|██████████| 4/4 [00:04<00:00,  1.06s/it]\n"
     ]
    },
    {
     "name": "stdout",
     "output_type": "stream",
     "text": [
      "PEFT model loaded successfully.\n"
     ]
    }
   ],
   "source": [
    "# Load trained model\n",
    "print(f\"Loading {model_name}...\")\n",
    "base_model_ = AutoModelForCausalLM.from_pretrained(model_name, torch_dtype=torch.bfloat16, device_map=\"auto\")\n",
    "peft_model_path = \"../results/20240722/traj_always_rhyme_x0_squad_ep150\"\n",
    "config = PeftConfig.from_pretrained(peft_model_path)\n",
    "\n",
    "# Load the PEFT model\n",
    "peft_model = PeftModel.from_pretrained(base_model_, peft_model_path).to('cuda')\n",
    "\n",
    "print(\"PEFT model loaded successfully.\")"
   ]
  },
  {
   "cell_type": "markdown",
   "metadata": {},
   "source": [
    "## Loss Deviance Plots\n",
    "\n",
    "In this section, we will load the validation dataset from the original experiment \n",
    "from `../data/20240722/traj_always_rhyme_x0_squad_val.jsonl`. \n"
   ]
  },
  {
   "cell_type": "code",
   "execution_count": 5,
   "metadata": {},
   "outputs": [],
   "source": [
    "data_path = \"../data/20240722/traj_always_rhyme_x0_squad_val.jsonl\"\n",
    "dataset = load_dataset('json', data_files=data_path)"
   ]
  },
  {
   "cell_type": "code",
   "execution_count": 6,
   "metadata": {},
   "outputs": [
    {
     "name": "stdout",
     "output_type": "stream",
     "text": [
      "peft model device:  cuda:0\n",
      "prompted model device:  cuda:0\n"
     ]
    },
    {
     "name": "stderr",
     "output_type": "stream",
     "text": [
      "  0%|          | 0/79 [00:00<?, ?it/s]We detected that you are passing `past_key_values` as a tuple and this is deprecated and will be removed in v4.43. Please use an appropriate `Cache` class (https://huggingface.co/docs/transformers/v4.41.3/en/internal/generation_utils#transformers.Cache)\n",
      " 41%|████      | 32/79 [00:27<00:39,  1.19it/s]"
     ]
    }
   ],
   "source": [
    "res_dict = get_loss(model_untrained, peft_model, tokenizer, dataset, batch_size=8, log_path=None, optimizer=None, do_step=False)"
   ]
  },
  {
   "cell_type": "code",
   "execution_count": null,
   "metadata": {},
   "outputs": [],
   "source": []
  }
 ],
 "metadata": {
  "kernelspec": {
   "display_name": "venv",
   "language": "python",
   "name": "python3"
  },
  "language_info": {
   "codemirror_mode": {
    "name": "ipython",
    "version": 3
   },
   "file_extension": ".py",
   "mimetype": "text/x-python",
   "name": "python",
   "nbconvert_exporter": "python",
   "pygments_lexer": "ipython3",
   "version": "3.10.12"
  }
 },
 "nbformat": 4,
 "nbformat_minor": 2
}
